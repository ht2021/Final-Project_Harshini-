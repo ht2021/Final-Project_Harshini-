{
 "cells": [
  {
   "cell_type": "code",
   "execution_count": 1,
   "metadata": {},
   "outputs": [],
   "source": [
    "## Importing required packages\n",
    "import pandas as pd \n",
    "import numpy as np \n",
    "import missingno as miss\n",
    "import matplotlib.pyplot as plt"
   ]
  },
  {
   "cell_type": "code",
   "execution_count": 2,
   "metadata": {},
   "outputs": [],
   "source": [
    "##Let us import all the processed data\n",
    "IV1 = pd.read_csv(\"C:/Users/VIOLIN/Desktop/Final-Project_Harshini-/Project Part -2/Processed data part2/IV1_output.csv\")\n",
    "IV2 = pd.read_csv(\"C:/Users/VIOLIN/Desktop/Final-Project_Harshini-/Project Part -2/Processed data part2/IV2_output.csv\")\n",
    "IV3 = pd.read_csv(\"C:/Users/VIOLIN/Desktop/Final-Project_Harshini-/Project Part -2/Processed data part2/IV3_output.csv\")\n",
    "IV4 = pd.read_csv(\"C:/Users/VIOLIN/Desktop/Final-Project_Harshini-/Project Part -2/Processed data part2/IV4_output.csv\")\n",
    "IV5 = pd.read_csv(\"C:/Users/VIOLIN/Desktop/Final-Project_Harshini-/Project Part -2/Processed data part2/IV5_output.csv\")\n",
    "IV6 = pd.read_csv(\"C:/Users/VIOLIN/Desktop/Final-Project_Harshini-/Project Part -2/Processed data part2/IV6_output.csv\")"
   ]
  },
  {
   "cell_type": "code",
   "execution_count": 3,
   "metadata": {},
   "outputs": [
    {
     "data": {
      "text/html": [
       "<div>\n",
       "<style scoped>\n",
       "    .dataframe tbody tr th:only-of-type {\n",
       "        vertical-align: middle;\n",
       "    }\n",
       "\n",
       "    .dataframe tbody tr th {\n",
       "        vertical-align: top;\n",
       "    }\n",
       "\n",
       "    .dataframe thead th {\n",
       "        text-align: right;\n",
       "    }\n",
       "</style>\n",
       "<table border=\"1\" class=\"dataframe\">\n",
       "  <thead>\n",
       "    <tr style=\"text-align: right;\">\n",
       "      <th></th>\n",
       "      <th>country</th>\n",
       "      <th>city_ascii</th>\n",
       "      <th>population</th>\n",
       "    </tr>\n",
       "  </thead>\n",
       "  <tbody>\n",
       "    <tr>\n",
       "      <th>0</th>\n",
       "      <td>Afghanistan</td>\n",
       "      <td>39</td>\n",
       "      <td>7474525.0</td>\n",
       "    </tr>\n",
       "    <tr>\n",
       "      <th>1</th>\n",
       "      <td>Albania</td>\n",
       "      <td>50</td>\n",
       "      <td>1691769.0</td>\n",
       "    </tr>\n",
       "    <tr>\n",
       "      <th>2</th>\n",
       "      <td>Algeria</td>\n",
       "      <td>56</td>\n",
       "      <td>10827998.0</td>\n",
       "    </tr>\n",
       "    <tr>\n",
       "      <th>3</th>\n",
       "      <td>American Samoa</td>\n",
       "      <td>1</td>\n",
       "      <td>12576.0</td>\n",
       "    </tr>\n",
       "    <tr>\n",
       "      <th>4</th>\n",
       "      <td>Andorra</td>\n",
       "      <td>1</td>\n",
       "      <td>22151.0</td>\n",
       "    </tr>\n",
       "  </tbody>\n",
       "</table>\n",
       "</div>"
      ],
      "text/plain": [
       "          country  city_ascii  population\n",
       "0     Afghanistan          39   7474525.0\n",
       "1         Albania          50   1691769.0\n",
       "2         Algeria          56  10827998.0\n",
       "3  American Samoa           1     12576.0\n",
       "4         Andorra           1     22151.0"
      ]
     },
     "execution_count": 3,
     "metadata": {},
     "output_type": "execute_result"
    }
   ],
   "source": [
    "\n",
    "## Let us explore the data\n",
    "IV1.head()"
   ]
  },
  {
   "cell_type": "code",
   "execution_count": 4,
   "metadata": {},
   "outputs": [
    {
     "data": {
      "text/plain": [
       "(217, 3)"
      ]
     },
     "execution_count": 4,
     "metadata": {},
     "output_type": "execute_result"
    }
   ],
   "source": [
    "IV1.shape"
   ]
  },
  {
   "cell_type": "code",
   "execution_count": 5,
   "metadata": {},
   "outputs": [
    {
     "data": {
      "text/html": [
       "<div>\n",
       "<style scoped>\n",
       "    .dataframe tbody tr th:only-of-type {\n",
       "        vertical-align: middle;\n",
       "    }\n",
       "\n",
       "    .dataframe tbody tr th {\n",
       "        vertical-align: top;\n",
       "    }\n",
       "\n",
       "    .dataframe thead th {\n",
       "        text-align: right;\n",
       "    }\n",
       "</style>\n",
       "<table border=\"1\" class=\"dataframe\">\n",
       "  <thead>\n",
       "    <tr style=\"text-align: right;\">\n",
       "      <th></th>\n",
       "      <th>country</th>\n",
       "      <th>2019 GDP per capita</th>\n",
       "    </tr>\n",
       "  </thead>\n",
       "  <tbody>\n",
       "    <tr>\n",
       "      <th>0</th>\n",
       "      <td>Aruba</td>\n",
       "      <td>NaN</td>\n",
       "    </tr>\n",
       "    <tr>\n",
       "      <th>1</th>\n",
       "      <td>Afghanistan</td>\n",
       "      <td>502.115487</td>\n",
       "    </tr>\n",
       "    <tr>\n",
       "      <th>2</th>\n",
       "      <td>Angola</td>\n",
       "      <td>2973.591160</td>\n",
       "    </tr>\n",
       "    <tr>\n",
       "      <th>3</th>\n",
       "      <td>Albania</td>\n",
       "      <td>5352.857411</td>\n",
       "    </tr>\n",
       "    <tr>\n",
       "      <th>4</th>\n",
       "      <td>Andorra</td>\n",
       "      <td>40886.391160</td>\n",
       "    </tr>\n",
       "  </tbody>\n",
       "</table>\n",
       "</div>"
      ],
      "text/plain": [
       "       country  2019 GDP per capita\n",
       "0        Aruba                  NaN\n",
       "1  Afghanistan           502.115487\n",
       "2       Angola          2973.591160\n",
       "3      Albania          5352.857411\n",
       "4      Andorra         40886.391160"
      ]
     },
     "execution_count": 5,
     "metadata": {},
     "output_type": "execute_result"
    }
   ],
   "source": [
    "IV2.head()"
   ]
  },
  {
   "cell_type": "code",
   "execution_count": 6,
   "metadata": {},
   "outputs": [
    {
     "data": {
      "text/plain": [
       "(264, 2)"
      ]
     },
     "execution_count": 6,
     "metadata": {},
     "output_type": "execute_result"
    }
   ],
   "source": [
    "IV2.shape"
   ]
  },
  {
   "cell_type": "code",
   "execution_count": 7,
   "metadata": {},
   "outputs": [
    {
     "data": {
      "text/html": [
       "<div>\n",
       "<style scoped>\n",
       "    .dataframe tbody tr th:only-of-type {\n",
       "        vertical-align: middle;\n",
       "    }\n",
       "\n",
       "    .dataframe tbody tr th {\n",
       "        vertical-align: top;\n",
       "    }\n",
       "\n",
       "    .dataframe thead th {\n",
       "        text-align: right;\n",
       "    }\n",
       "</style>\n",
       "<table border=\"1\" class=\"dataframe\">\n",
       "  <thead>\n",
       "    <tr style=\"text-align: right;\">\n",
       "      <th></th>\n",
       "      <th>country</th>\n",
       "      <th>1960 urban population%</th>\n",
       "      <th>2019 urban population%</th>\n",
       "      <th>change of urbanization % since 1960</th>\n",
       "    </tr>\n",
       "  </thead>\n",
       "  <tbody>\n",
       "    <tr>\n",
       "      <th>0</th>\n",
       "      <td>Aruba</td>\n",
       "      <td>50.776</td>\n",
       "      <td>43.546</td>\n",
       "      <td>-7.230</td>\n",
       "    </tr>\n",
       "    <tr>\n",
       "      <th>1</th>\n",
       "      <td>Afghanistan</td>\n",
       "      <td>8.401</td>\n",
       "      <td>25.754</td>\n",
       "      <td>17.353</td>\n",
       "    </tr>\n",
       "    <tr>\n",
       "      <th>2</th>\n",
       "      <td>Angola</td>\n",
       "      <td>10.435</td>\n",
       "      <td>66.177</td>\n",
       "      <td>55.742</td>\n",
       "    </tr>\n",
       "    <tr>\n",
       "      <th>3</th>\n",
       "      <td>Albania</td>\n",
       "      <td>30.705</td>\n",
       "      <td>61.229</td>\n",
       "      <td>30.524</td>\n",
       "    </tr>\n",
       "    <tr>\n",
       "      <th>4</th>\n",
       "      <td>Andorra</td>\n",
       "      <td>58.450</td>\n",
       "      <td>87.984</td>\n",
       "      <td>29.534</td>\n",
       "    </tr>\n",
       "  </tbody>\n",
       "</table>\n",
       "</div>"
      ],
      "text/plain": [
       "       country  1960 urban population%  2019 urban population%  \\\n",
       "0        Aruba                  50.776                  43.546   \n",
       "1  Afghanistan                   8.401                  25.754   \n",
       "2       Angola                  10.435                  66.177   \n",
       "3      Albania                  30.705                  61.229   \n",
       "4      Andorra                  58.450                  87.984   \n",
       "\n",
       "   change of urbanization % since 1960  \n",
       "0                               -7.230  \n",
       "1                               17.353  \n",
       "2                               55.742  \n",
       "3                               30.524  \n",
       "4                               29.534  "
      ]
     },
     "execution_count": 7,
     "metadata": {},
     "output_type": "execute_result"
    }
   ],
   "source": [
    "IV3.head()"
   ]
  },
  {
   "cell_type": "code",
   "execution_count": 8,
   "metadata": {},
   "outputs": [
    {
     "data": {
      "text/plain": [
       "(264, 4)"
      ]
     },
     "execution_count": 8,
     "metadata": {},
     "output_type": "execute_result"
    }
   ],
   "source": [
    "IV3.shape"
   ]
  },
  {
   "cell_type": "code",
   "execution_count": 9,
   "metadata": {},
   "outputs": [
    {
     "data": {
      "text/html": [
       "<div>\n",
       "<style scoped>\n",
       "    .dataframe tbody tr th:only-of-type {\n",
       "        vertical-align: middle;\n",
       "    }\n",
       "\n",
       "    .dataframe tbody tr th {\n",
       "        vertical-align: top;\n",
       "    }\n",
       "\n",
       "    .dataframe thead th {\n",
       "        text-align: right;\n",
       "    }\n",
       "</style>\n",
       "<table border=\"1\" class=\"dataframe\">\n",
       "  <thead>\n",
       "    <tr style=\"text-align: right;\">\n",
       "      <th></th>\n",
       "      <th>country</th>\n",
       "      <th>Tax Rank</th>\n",
       "      <th>Tax Score</th>\n",
       "    </tr>\n",
       "  </thead>\n",
       "  <tbody>\n",
       "    <tr>\n",
       "      <th>0</th>\n",
       "      <td>Estonia</td>\n",
       "      <td>1</td>\n",
       "      <td>100.0</td>\n",
       "    </tr>\n",
       "    <tr>\n",
       "      <th>1</th>\n",
       "      <td>Latvia</td>\n",
       "      <td>2</td>\n",
       "      <td>84.4</td>\n",
       "    </tr>\n",
       "    <tr>\n",
       "      <th>2</th>\n",
       "      <td>New Zealand</td>\n",
       "      <td>3</td>\n",
       "      <td>82.4</td>\n",
       "    </tr>\n",
       "    <tr>\n",
       "      <th>3</th>\n",
       "      <td>Switzerland</td>\n",
       "      <td>4</td>\n",
       "      <td>77.1</td>\n",
       "    </tr>\n",
       "    <tr>\n",
       "      <th>4</th>\n",
       "      <td>Luxembourg</td>\n",
       "      <td>5</td>\n",
       "      <td>76.0</td>\n",
       "    </tr>\n",
       "  </tbody>\n",
       "</table>\n",
       "</div>"
      ],
      "text/plain": [
       "       country  Tax Rank  Tax Score\n",
       "0      Estonia         1      100.0\n",
       "1       Latvia         2       84.4\n",
       "2  New Zealand         3       82.4\n",
       "3  Switzerland         4       77.1\n",
       "4   Luxembourg         5       76.0"
      ]
     },
     "execution_count": 9,
     "metadata": {},
     "output_type": "execute_result"
    }
   ],
   "source": [
    "IV4.head()"
   ]
  },
  {
   "cell_type": "code",
   "execution_count": 10,
   "metadata": {},
   "outputs": [
    {
     "data": {
      "text/plain": [
       "(36, 3)"
      ]
     },
     "execution_count": 10,
     "metadata": {},
     "output_type": "execute_result"
    }
   ],
   "source": [
    "IV4.shape"
   ]
  },
  {
   "cell_type": "code",
   "execution_count": 11,
   "metadata": {},
   "outputs": [
    {
     "data": {
      "text/html": [
       "<div>\n",
       "<style scoped>\n",
       "    .dataframe tbody tr th:only-of-type {\n",
       "        vertical-align: middle;\n",
       "    }\n",
       "\n",
       "    .dataframe tbody tr th {\n",
       "        vertical-align: top;\n",
       "    }\n",
       "\n",
       "    .dataframe thead th {\n",
       "        text-align: right;\n",
       "    }\n",
       "</style>\n",
       "<table border=\"1\" class=\"dataframe\">\n",
       "  <thead>\n",
       "    <tr style=\"text-align: right;\">\n",
       "      <th></th>\n",
       "      <th>country</th>\n",
       "      <th>2014 usable water per capita</th>\n",
       "    </tr>\n",
       "  </thead>\n",
       "  <tbody>\n",
       "    <tr>\n",
       "      <th>0</th>\n",
       "      <td>Aruba</td>\n",
       "      <td>NaN</td>\n",
       "    </tr>\n",
       "    <tr>\n",
       "      <th>1</th>\n",
       "      <td>Afghanistan</td>\n",
       "      <td>1412.912141</td>\n",
       "    </tr>\n",
       "    <tr>\n",
       "      <th>2</th>\n",
       "      <td>Angola</td>\n",
       "      <td>5493.326925</td>\n",
       "    </tr>\n",
       "    <tr>\n",
       "      <th>3</th>\n",
       "      <td>Albania</td>\n",
       "      <td>9310.845162</td>\n",
       "    </tr>\n",
       "    <tr>\n",
       "      <th>4</th>\n",
       "      <td>Andorra</td>\n",
       "      <td>3984.194514</td>\n",
       "    </tr>\n",
       "  </tbody>\n",
       "</table>\n",
       "</div>"
      ],
      "text/plain": [
       "       country  2014 usable water per capita\n",
       "0        Aruba                           NaN\n",
       "1  Afghanistan                   1412.912141\n",
       "2       Angola                   5493.326925\n",
       "3      Albania                   9310.845162\n",
       "4      Andorra                   3984.194514"
      ]
     },
     "execution_count": 11,
     "metadata": {},
     "output_type": "execute_result"
    }
   ],
   "source": [
    "IV5.head()"
   ]
  },
  {
   "cell_type": "code",
   "execution_count": 12,
   "metadata": {},
   "outputs": [
    {
     "data": {
      "text/plain": [
       "(264, 2)"
      ]
     },
     "execution_count": 12,
     "metadata": {},
     "output_type": "execute_result"
    }
   ],
   "source": [
    "IV5.shape"
   ]
  },
  {
   "cell_type": "code",
   "execution_count": 13,
   "metadata": {},
   "outputs": [
    {
     "data": {
      "text/html": [
       "<div>\n",
       "<style scoped>\n",
       "    .dataframe tbody tr th:only-of-type {\n",
       "        vertical-align: middle;\n",
       "    }\n",
       "\n",
       "    .dataframe tbody tr th {\n",
       "        vertical-align: top;\n",
       "    }\n",
       "\n",
       "    .dataframe thead th {\n",
       "        text-align: right;\n",
       "    }\n",
       "</style>\n",
       "<table border=\"1\" class=\"dataframe\">\n",
       "  <thead>\n",
       "    <tr style=\"text-align: right;\">\n",
       "      <th></th>\n",
       "      <th>country</th>\n",
       "      <th>2019 FDI data</th>\n",
       "    </tr>\n",
       "  </thead>\n",
       "  <tbody>\n",
       "    <tr>\n",
       "      <th>0</th>\n",
       "      <td>Aruba</td>\n",
       "      <td>-7.604174e+07</td>\n",
       "    </tr>\n",
       "    <tr>\n",
       "      <th>1</th>\n",
       "      <td>Afghanistan</td>\n",
       "      <td>2.340455e+07</td>\n",
       "    </tr>\n",
       "    <tr>\n",
       "      <th>2</th>\n",
       "      <td>Angola</td>\n",
       "      <td>-4.098479e+09</td>\n",
       "    </tr>\n",
       "    <tr>\n",
       "      <th>3</th>\n",
       "      <td>Albania</td>\n",
       "      <td>1.201022e+09</td>\n",
       "    </tr>\n",
       "    <tr>\n",
       "      <th>4</th>\n",
       "      <td>Andorra</td>\n",
       "      <td>NaN</td>\n",
       "    </tr>\n",
       "  </tbody>\n",
       "</table>\n",
       "</div>"
      ],
      "text/plain": [
       "       country  2019 FDI data\n",
       "0        Aruba  -7.604174e+07\n",
       "1  Afghanistan   2.340455e+07\n",
       "2       Angola  -4.098479e+09\n",
       "3      Albania   1.201022e+09\n",
       "4      Andorra            NaN"
      ]
     },
     "execution_count": 13,
     "metadata": {},
     "output_type": "execute_result"
    }
   ],
   "source": [
    "IV6.head()"
   ]
  },
  {
   "cell_type": "code",
   "execution_count": 14,
   "metadata": {},
   "outputs": [
    {
     "data": {
      "text/plain": [
       "(264, 2)"
      ]
     },
     "execution_count": 14,
     "metadata": {},
     "output_type": "execute_result"
    }
   ],
   "source": [
    "IV6.shape"
   ]
  },
  {
   "cell_type": "markdown",
   "metadata": {},
   "source": [
    "Hence, we can see that except for IV4 , the rest of the dataframes length is similar!! So for our analysis let us keep the IV4 data on hold for the time being. "
   ]
  },
  {
   "cell_type": "code",
   "execution_count": 15,
   "metadata": {},
   "outputs": [],
   "source": [
    "##Merging IV1,IV2,IV3,IV5,IV6 dataframes"
   ]
  },
  {
   "cell_type": "code",
   "execution_count": 16,
   "metadata": {},
   "outputs": [
    {
     "data": {
      "text/html": [
       "<div>\n",
       "<style scoped>\n",
       "    .dataframe tbody tr th:only-of-type {\n",
       "        vertical-align: middle;\n",
       "    }\n",
       "\n",
       "    .dataframe tbody tr th {\n",
       "        vertical-align: top;\n",
       "    }\n",
       "\n",
       "    .dataframe thead th {\n",
       "        text-align: right;\n",
       "    }\n",
       "</style>\n",
       "<table border=\"1\" class=\"dataframe\">\n",
       "  <thead>\n",
       "    <tr style=\"text-align: right;\">\n",
       "      <th></th>\n",
       "      <th>country</th>\n",
       "      <th>city_ascii</th>\n",
       "      <th>population</th>\n",
       "      <th>2019 GDP per capita</th>\n",
       "    </tr>\n",
       "  </thead>\n",
       "  <tbody>\n",
       "    <tr>\n",
       "      <th>0</th>\n",
       "      <td>Afghanistan</td>\n",
       "      <td>39</td>\n",
       "      <td>7474525.0</td>\n",
       "      <td>502.115487</td>\n",
       "    </tr>\n",
       "    <tr>\n",
       "      <th>1</th>\n",
       "      <td>Albania</td>\n",
       "      <td>50</td>\n",
       "      <td>1691769.0</td>\n",
       "      <td>5352.857411</td>\n",
       "    </tr>\n",
       "    <tr>\n",
       "      <th>2</th>\n",
       "      <td>Algeria</td>\n",
       "      <td>56</td>\n",
       "      <td>10827998.0</td>\n",
       "      <td>3948.343279</td>\n",
       "    </tr>\n",
       "    <tr>\n",
       "      <th>3</th>\n",
       "      <td>American Samoa</td>\n",
       "      <td>1</td>\n",
       "      <td>12576.0</td>\n",
       "      <td>NaN</td>\n",
       "    </tr>\n",
       "    <tr>\n",
       "      <th>4</th>\n",
       "      <td>Andorra</td>\n",
       "      <td>1</td>\n",
       "      <td>22151.0</td>\n",
       "      <td>40886.391160</td>\n",
       "    </tr>\n",
       "  </tbody>\n",
       "</table>\n",
       "</div>"
      ],
      "text/plain": [
       "          country  city_ascii  population  2019 GDP per capita\n",
       "0     Afghanistan          39   7474525.0           502.115487\n",
       "1         Albania          50   1691769.0          5352.857411\n",
       "2         Algeria          56  10827998.0          3948.343279\n",
       "3  American Samoa           1     12576.0                  NaN\n",
       "4         Andorra           1     22151.0         40886.391160"
      ]
     },
     "execution_count": 16,
     "metadata": {},
     "output_type": "execute_result"
    }
   ],
   "source": [
    "merged_1 = pd.merge(IV1, IV2, on='country', how='inner')\n",
    "merged_1.head()"
   ]
  },
  {
   "cell_type": "code",
   "execution_count": 17,
   "metadata": {},
   "outputs": [
    {
     "data": {
      "text/html": [
       "<div>\n",
       "<style scoped>\n",
       "    .dataframe tbody tr th:only-of-type {\n",
       "        vertical-align: middle;\n",
       "    }\n",
       "\n",
       "    .dataframe tbody tr th {\n",
       "        vertical-align: top;\n",
       "    }\n",
       "\n",
       "    .dataframe thead th {\n",
       "        text-align: right;\n",
       "    }\n",
       "</style>\n",
       "<table border=\"1\" class=\"dataframe\">\n",
       "  <thead>\n",
       "    <tr style=\"text-align: right;\">\n",
       "      <th></th>\n",
       "      <th>country</th>\n",
       "      <th>1960 urban population%</th>\n",
       "      <th>2019 urban population%</th>\n",
       "      <th>change of urbanization % since 1960</th>\n",
       "      <th>2014 usable water per capita</th>\n",
       "    </tr>\n",
       "  </thead>\n",
       "  <tbody>\n",
       "    <tr>\n",
       "      <th>0</th>\n",
       "      <td>Aruba</td>\n",
       "      <td>50.776</td>\n",
       "      <td>43.546</td>\n",
       "      <td>-7.230</td>\n",
       "      <td>NaN</td>\n",
       "    </tr>\n",
       "    <tr>\n",
       "      <th>1</th>\n",
       "      <td>Afghanistan</td>\n",
       "      <td>8.401</td>\n",
       "      <td>25.754</td>\n",
       "      <td>17.353</td>\n",
       "      <td>1412.912141</td>\n",
       "    </tr>\n",
       "    <tr>\n",
       "      <th>2</th>\n",
       "      <td>Angola</td>\n",
       "      <td>10.435</td>\n",
       "      <td>66.177</td>\n",
       "      <td>55.742</td>\n",
       "      <td>5493.326925</td>\n",
       "    </tr>\n",
       "    <tr>\n",
       "      <th>3</th>\n",
       "      <td>Albania</td>\n",
       "      <td>30.705</td>\n",
       "      <td>61.229</td>\n",
       "      <td>30.524</td>\n",
       "      <td>9310.845162</td>\n",
       "    </tr>\n",
       "    <tr>\n",
       "      <th>4</th>\n",
       "      <td>Andorra</td>\n",
       "      <td>58.450</td>\n",
       "      <td>87.984</td>\n",
       "      <td>29.534</td>\n",
       "      <td>3984.194514</td>\n",
       "    </tr>\n",
       "  </tbody>\n",
       "</table>\n",
       "</div>"
      ],
      "text/plain": [
       "       country  1960 urban population%  2019 urban population%  \\\n",
       "0        Aruba                  50.776                  43.546   \n",
       "1  Afghanistan                   8.401                  25.754   \n",
       "2       Angola                  10.435                  66.177   \n",
       "3      Albania                  30.705                  61.229   \n",
       "4      Andorra                  58.450                  87.984   \n",
       "\n",
       "   change of urbanization % since 1960  2014 usable water per capita  \n",
       "0                               -7.230                           NaN  \n",
       "1                               17.353                   1412.912141  \n",
       "2                               55.742                   5493.326925  \n",
       "3                               30.524                   9310.845162  \n",
       "4                               29.534                   3984.194514  "
      ]
     },
     "execution_count": 17,
     "metadata": {},
     "output_type": "execute_result"
    }
   ],
   "source": [
    "merged_2 = pd.merge(IV3, IV5, on='country', how='inner')\n",
    "merged_2.head()"
   ]
  },
  {
   "cell_type": "code",
   "execution_count": 18,
   "metadata": {},
   "outputs": [
    {
     "data": {
      "text/html": [
       "<div>\n",
       "<style scoped>\n",
       "    .dataframe tbody tr th:only-of-type {\n",
       "        vertical-align: middle;\n",
       "    }\n",
       "\n",
       "    .dataframe tbody tr th {\n",
       "        vertical-align: top;\n",
       "    }\n",
       "\n",
       "    .dataframe thead th {\n",
       "        text-align: right;\n",
       "    }\n",
       "</style>\n",
       "<table border=\"1\" class=\"dataframe\">\n",
       "  <thead>\n",
       "    <tr style=\"text-align: right;\">\n",
       "      <th></th>\n",
       "      <th>country</th>\n",
       "      <th>city_ascii</th>\n",
       "      <th>population</th>\n",
       "      <th>2019 GDP per capita</th>\n",
       "      <th>1960 urban population%</th>\n",
       "      <th>2019 urban population%</th>\n",
       "      <th>change of urbanization % since 1960</th>\n",
       "      <th>2014 usable water per capita</th>\n",
       "    </tr>\n",
       "  </thead>\n",
       "  <tbody>\n",
       "    <tr>\n",
       "      <th>0</th>\n",
       "      <td>Afghanistan</td>\n",
       "      <td>39</td>\n",
       "      <td>7474525.0</td>\n",
       "      <td>502.115487</td>\n",
       "      <td>8.401</td>\n",
       "      <td>25.754</td>\n",
       "      <td>17.353</td>\n",
       "      <td>1412.912141</td>\n",
       "    </tr>\n",
       "    <tr>\n",
       "      <th>1</th>\n",
       "      <td>Albania</td>\n",
       "      <td>50</td>\n",
       "      <td>1691769.0</td>\n",
       "      <td>5352.857411</td>\n",
       "      <td>30.705</td>\n",
       "      <td>61.229</td>\n",
       "      <td>30.524</td>\n",
       "      <td>9310.845162</td>\n",
       "    </tr>\n",
       "    <tr>\n",
       "      <th>2</th>\n",
       "      <td>Algeria</td>\n",
       "      <td>56</td>\n",
       "      <td>10827998.0</td>\n",
       "      <td>3948.343279</td>\n",
       "      <td>30.510</td>\n",
       "      <td>73.189</td>\n",
       "      <td>42.679</td>\n",
       "      <td>289.027090</td>\n",
       "    </tr>\n",
       "    <tr>\n",
       "      <th>3</th>\n",
       "      <td>American Samoa</td>\n",
       "      <td>1</td>\n",
       "      <td>12576.0</td>\n",
       "      <td>NaN</td>\n",
       "      <td>66.211</td>\n",
       "      <td>87.147</td>\n",
       "      <td>20.936</td>\n",
       "      <td>NaN</td>\n",
       "    </tr>\n",
       "    <tr>\n",
       "      <th>4</th>\n",
       "      <td>Andorra</td>\n",
       "      <td>1</td>\n",
       "      <td>22151.0</td>\n",
       "      <td>40886.391160</td>\n",
       "      <td>58.450</td>\n",
       "      <td>87.984</td>\n",
       "      <td>29.534</td>\n",
       "      <td>3984.194514</td>\n",
       "    </tr>\n",
       "  </tbody>\n",
       "</table>\n",
       "</div>"
      ],
      "text/plain": [
       "          country  city_ascii  population  2019 GDP per capita  \\\n",
       "0     Afghanistan          39   7474525.0           502.115487   \n",
       "1         Albania          50   1691769.0          5352.857411   \n",
       "2         Algeria          56  10827998.0          3948.343279   \n",
       "3  American Samoa           1     12576.0                  NaN   \n",
       "4         Andorra           1     22151.0         40886.391160   \n",
       "\n",
       "   1960 urban population%  2019 urban population%  \\\n",
       "0                   8.401                  25.754   \n",
       "1                  30.705                  61.229   \n",
       "2                  30.510                  73.189   \n",
       "3                  66.211                  87.147   \n",
       "4                  58.450                  87.984   \n",
       "\n",
       "   change of urbanization % since 1960  2014 usable water per capita  \n",
       "0                               17.353                   1412.912141  \n",
       "1                               30.524                   9310.845162  \n",
       "2                               42.679                    289.027090  \n",
       "3                               20.936                           NaN  \n",
       "4                               29.534                   3984.194514  "
      ]
     },
     "execution_count": 18,
     "metadata": {},
     "output_type": "execute_result"
    }
   ],
   "source": [
    "merged_3 = pd.merge(merged_1, merged_2, on='country', how='inner')\n",
    "merged_3.head()"
   ]
  },
  {
   "cell_type": "code",
   "execution_count": 19,
   "metadata": {},
   "outputs": [
    {
     "data": {
      "text/html": [
       "<div>\n",
       "<style scoped>\n",
       "    .dataframe tbody tr th:only-of-type {\n",
       "        vertical-align: middle;\n",
       "    }\n",
       "\n",
       "    .dataframe tbody tr th {\n",
       "        vertical-align: top;\n",
       "    }\n",
       "\n",
       "    .dataframe thead th {\n",
       "        text-align: right;\n",
       "    }\n",
       "</style>\n",
       "<table border=\"1\" class=\"dataframe\">\n",
       "  <thead>\n",
       "    <tr style=\"text-align: right;\">\n",
       "      <th></th>\n",
       "      <th>country</th>\n",
       "      <th>city_ascii</th>\n",
       "      <th>population</th>\n",
       "      <th>2019 GDP per capita</th>\n",
       "      <th>1960 urban population%</th>\n",
       "      <th>2019 urban population%</th>\n",
       "      <th>change of urbanization % since 1960</th>\n",
       "      <th>2014 usable water per capita</th>\n",
       "      <th>2019 FDI data</th>\n",
       "    </tr>\n",
       "  </thead>\n",
       "  <tbody>\n",
       "    <tr>\n",
       "      <th>0</th>\n",
       "      <td>Afghanistan</td>\n",
       "      <td>39</td>\n",
       "      <td>7474525.0</td>\n",
       "      <td>502.115487</td>\n",
       "      <td>8.401</td>\n",
       "      <td>25.754</td>\n",
       "      <td>17.353</td>\n",
       "      <td>1412.912141</td>\n",
       "      <td>2.340455e+07</td>\n",
       "    </tr>\n",
       "    <tr>\n",
       "      <th>1</th>\n",
       "      <td>Albania</td>\n",
       "      <td>50</td>\n",
       "      <td>1691769.0</td>\n",
       "      <td>5352.857411</td>\n",
       "      <td>30.705</td>\n",
       "      <td>61.229</td>\n",
       "      <td>30.524</td>\n",
       "      <td>9310.845162</td>\n",
       "      <td>1.201022e+09</td>\n",
       "    </tr>\n",
       "    <tr>\n",
       "      <th>2</th>\n",
       "      <td>Algeria</td>\n",
       "      <td>56</td>\n",
       "      <td>10827998.0</td>\n",
       "      <td>3948.343279</td>\n",
       "      <td>30.510</td>\n",
       "      <td>73.189</td>\n",
       "      <td>42.679</td>\n",
       "      <td>289.027090</td>\n",
       "      <td>1.381890e+09</td>\n",
       "    </tr>\n",
       "    <tr>\n",
       "      <th>3</th>\n",
       "      <td>American Samoa</td>\n",
       "      <td>1</td>\n",
       "      <td>12576.0</td>\n",
       "      <td>NaN</td>\n",
       "      <td>66.211</td>\n",
       "      <td>87.147</td>\n",
       "      <td>20.936</td>\n",
       "      <td>NaN</td>\n",
       "      <td>NaN</td>\n",
       "    </tr>\n",
       "    <tr>\n",
       "      <th>4</th>\n",
       "      <td>Andorra</td>\n",
       "      <td>1</td>\n",
       "      <td>22151.0</td>\n",
       "      <td>40886.391160</td>\n",
       "      <td>58.450</td>\n",
       "      <td>87.984</td>\n",
       "      <td>29.534</td>\n",
       "      <td>3984.194514</td>\n",
       "      <td>NaN</td>\n",
       "    </tr>\n",
       "  </tbody>\n",
       "</table>\n",
       "</div>"
      ],
      "text/plain": [
       "          country  city_ascii  population  2019 GDP per capita  \\\n",
       "0     Afghanistan          39   7474525.0           502.115487   \n",
       "1         Albania          50   1691769.0          5352.857411   \n",
       "2         Algeria          56  10827998.0          3948.343279   \n",
       "3  American Samoa           1     12576.0                  NaN   \n",
       "4         Andorra           1     22151.0         40886.391160   \n",
       "\n",
       "   1960 urban population%  2019 urban population%  \\\n",
       "0                   8.401                  25.754   \n",
       "1                  30.705                  61.229   \n",
       "2                  30.510                  73.189   \n",
       "3                  66.211                  87.147   \n",
       "4                  58.450                  87.984   \n",
       "\n",
       "   change of urbanization % since 1960  2014 usable water per capita  \\\n",
       "0                               17.353                   1412.912141   \n",
       "1                               30.524                   9310.845162   \n",
       "2                               42.679                    289.027090   \n",
       "3                               20.936                           NaN   \n",
       "4                               29.534                   3984.194514   \n",
       "\n",
       "   2019 FDI data  \n",
       "0   2.340455e+07  \n",
       "1   1.201022e+09  \n",
       "2   1.381890e+09  \n",
       "3            NaN  \n",
       "4            NaN  "
      ]
     },
     "execution_count": 19,
     "metadata": {},
     "output_type": "execute_result"
    }
   ],
   "source": [
    "IV_data = pd.merge(merged_3, IV6, on='country', how='inner')\n",
    "IV_data.head()"
   ]
  },
  {
   "cell_type": "code",
   "execution_count": 20,
   "metadata": {},
   "outputs": [
    {
     "data": {
      "text/plain": [
       "(177, 9)"
      ]
     },
     "execution_count": 20,
     "metadata": {},
     "output_type": "execute_result"
    }
   ],
   "source": [
    "IV_data.shape"
   ]
  },
  {
   "cell_type": "code",
   "execution_count": 21,
   "metadata": {},
   "outputs": [
    {
     "data": {
      "text/plain": [
       "country                                False\n",
       "city_ascii                             False\n",
       "population                             False\n",
       "2019 GDP per capita                     True\n",
       "1960 urban population%                  True\n",
       "2019 urban population%                  True\n",
       "change of urbanization % since 1960     True\n",
       "2014 usable water per capita            True\n",
       "2019 FDI data                           True\n",
       "dtype: bool"
      ]
     },
     "execution_count": 21,
     "metadata": {},
     "output_type": "execute_result"
    }
   ],
   "source": [
    "## Checking for missing values\n",
    "# Checking any Missing Values\n",
    "IV_data.isnull().any()"
   ]
  },
  {
   "cell_type": "code",
   "execution_count": 22,
   "metadata": {},
   "outputs": [
    {
     "data": {
      "text/plain": [
       "country                                 0\n",
       "city_ascii                              0\n",
       "population                              0\n",
       "2019 GDP per capita                    22\n",
       "1960 urban population%                  2\n",
       "2019 urban population%                  2\n",
       "change of urbanization % since 1960     3\n",
       "2014 usable water per capita           23\n",
       "2019 FDI data                          13\n",
       "dtype: int64"
      ]
     },
     "execution_count": 22,
     "metadata": {},
     "output_type": "execute_result"
    }
   ],
   "source": [
    " #checking how much invalid data exists\n",
    "    # to determine if data is valid\n",
    "IV_data.isnull().sum()"
   ]
  },
  {
   "cell_type": "code",
   "execution_count": 23,
   "metadata": {},
   "outputs": [
    {
     "data": {
      "text/plain": [
       "<matplotlib.axes._subplots.AxesSubplot at 0x233d6b1b1c0>"
      ]
     },
     "execution_count": 23,
     "metadata": {},
     "output_type": "execute_result"
    },
    {
     "data": {
      "image/png": "[encoded data removed]",
      "text/plain": [
       "<Figure size 1800x720 with 2 Axes>"
      ]
     },
     "metadata": {
      "needs_background": "light"
     },
     "output_type": "display_data"
    }
   ],
   "source": [
    "#Visually Checked to see the missing values\n",
    "miss.matrix(IV_data)"
   ]
  },
  {
   "cell_type": "code",
   "execution_count": 24,
   "metadata": {},
   "outputs": [
    {
     "data": {
      "text/html": [
       "<div>\n",
       "<style scoped>\n",
       "    .dataframe tbody tr th:only-of-type {\n",
       "        vertical-align: middle;\n",
       "    }\n",
       "\n",
       "    .dataframe tbody tr th {\n",
       "        vertical-align: top;\n",
       "    }\n",
       "\n",
       "    .dataframe thead th {\n",
       "        text-align: right;\n",
       "    }\n",
       "</style>\n",
       "<table border=\"1\" class=\"dataframe\">\n",
       "  <thead>\n",
       "    <tr style=\"text-align: right;\">\n",
       "      <th></th>\n",
       "      <th>country</th>\n",
       "      <th>city_ascii</th>\n",
       "      <th>population</th>\n",
       "      <th>2019 GDP per capita</th>\n",
       "      <th>1960 urban population%</th>\n",
       "      <th>2019 urban population%</th>\n",
       "      <th>change of urbanization % since 1960</th>\n",
       "      <th>2014 usable water per capita</th>\n",
       "      <th>2019 FDI data</th>\n",
       "    </tr>\n",
       "  </thead>\n",
       "  <tbody>\n",
       "    <tr>\n",
       "      <th>0</th>\n",
       "      <td>Afghanistan</td>\n",
       "      <td>39</td>\n",
       "      <td>7474525.0</td>\n",
       "      <td>502.115487</td>\n",
       "      <td>8.401</td>\n",
       "      <td>25.754</td>\n",
       "      <td>17.353</td>\n",
       "      <td>1412.912141</td>\n",
       "      <td>2.340455e+07</td>\n",
       "    </tr>\n",
       "    <tr>\n",
       "      <th>1</th>\n",
       "      <td>Albania</td>\n",
       "      <td>50</td>\n",
       "      <td>1691769.0</td>\n",
       "      <td>5352.857411</td>\n",
       "      <td>30.705</td>\n",
       "      <td>61.229</td>\n",
       "      <td>30.524</td>\n",
       "      <td>9310.845162</td>\n",
       "      <td>1.201022e+09</td>\n",
       "    </tr>\n",
       "    <tr>\n",
       "      <th>2</th>\n",
       "      <td>Algeria</td>\n",
       "      <td>56</td>\n",
       "      <td>10827998.0</td>\n",
       "      <td>3948.343279</td>\n",
       "      <td>30.510</td>\n",
       "      <td>73.189</td>\n",
       "      <td>42.679</td>\n",
       "      <td>289.027090</td>\n",
       "      <td>1.381890e+09</td>\n",
       "    </tr>\n",
       "    <tr>\n",
       "      <th>3</th>\n",
       "      <td>American Samoa</td>\n",
       "      <td>1</td>\n",
       "      <td>12576.0</td>\n",
       "      <td>-999.000000</td>\n",
       "      <td>66.211</td>\n",
       "      <td>87.147</td>\n",
       "      <td>20.936</td>\n",
       "      <td>-999.000000</td>\n",
       "      <td>-9.990000e+02</td>\n",
       "    </tr>\n",
       "    <tr>\n",
       "      <th>4</th>\n",
       "      <td>Andorra</td>\n",
       "      <td>1</td>\n",
       "      <td>22151.0</td>\n",
       "      <td>40886.391160</td>\n",
       "      <td>58.450</td>\n",
       "      <td>87.984</td>\n",
       "      <td>29.534</td>\n",
       "      <td>3984.194514</td>\n",
       "      <td>-9.990000e+02</td>\n",
       "    </tr>\n",
       "    <tr>\n",
       "      <th>...</th>\n",
       "      <td>...</td>\n",
       "      <td>...</td>\n",
       "      <td>...</td>\n",
       "      <td>...</td>\n",
       "      <td>...</td>\n",
       "      <td>...</td>\n",
       "      <td>...</td>\n",
       "      <td>...</td>\n",
       "      <td>...</td>\n",
       "    </tr>\n",
       "    <tr>\n",
       "      <th>172</th>\n",
       "      <td>Uzbekistan</td>\n",
       "      <td>55</td>\n",
       "      <td>8086374.0</td>\n",
       "      <td>1724.841134</td>\n",
       "      <td>33.978</td>\n",
       "      <td>50.433</td>\n",
       "      <td>16.455</td>\n",
       "      <td>531.249086</td>\n",
       "      <td>2.314621e+09</td>\n",
       "    </tr>\n",
       "    <tr>\n",
       "      <th>173</th>\n",
       "      <td>Vanuatu</td>\n",
       "      <td>2</td>\n",
       "      <td>64834.0</td>\n",
       "      <td>3058.065675</td>\n",
       "      <td>10.404</td>\n",
       "      <td>25.394</td>\n",
       "      <td>14.990</td>\n",
       "      <td>37894.864490</td>\n",
       "      <td>4.100000e+07</td>\n",
       "    </tr>\n",
       "    <tr>\n",
       "      <th>174</th>\n",
       "      <td>Vietnam</td>\n",
       "      <td>65</td>\n",
       "      <td>37934404.0</td>\n",
       "      <td>2715.276036</td>\n",
       "      <td>14.700</td>\n",
       "      <td>36.628</td>\n",
       "      <td>21.928</td>\n",
       "      <td>3918.678374</td>\n",
       "      <td>1.612000e+10</td>\n",
       "    </tr>\n",
       "    <tr>\n",
       "      <th>175</th>\n",
       "      <td>Zambia</td>\n",
       "      <td>34</td>\n",
       "      <td>4743400.0</td>\n",
       "      <td>1291.343357</td>\n",
       "      <td>18.145</td>\n",
       "      <td>44.072</td>\n",
       "      <td>25.927</td>\n",
       "      <td>5207.875737</td>\n",
       "      <td>5.479679e+08</td>\n",
       "    </tr>\n",
       "    <tr>\n",
       "      <th>176</th>\n",
       "      <td>Zimbabwe</td>\n",
       "      <td>24</td>\n",
       "      <td>3659454.0</td>\n",
       "      <td>1463.985910</td>\n",
       "      <td>12.608</td>\n",
       "      <td>32.210</td>\n",
       "      <td>19.602</td>\n",
       "      <td>902.354298</td>\n",
       "      <td>2.800000e+08</td>\n",
       "    </tr>\n",
       "  </tbody>\n",
       "</table>\n",
       "<p>177 rows × 9 columns</p>\n",
       "</div>"
      ],
      "text/plain": [
       "            country  city_ascii  population  2019 GDP per capita  \\\n",
       "0       Afghanistan          39   7474525.0           502.115487   \n",
       "1           Albania          50   1691769.0          5352.857411   \n",
       "2           Algeria          56  10827998.0          3948.343279   \n",
       "3    American Samoa           1     12576.0          -999.000000   \n",
       "4           Andorra           1     22151.0         40886.391160   \n",
       "..              ...         ...         ...                  ...   \n",
       "172      Uzbekistan          55   8086374.0          1724.841134   \n",
       "173         Vanuatu           2     64834.0          3058.065675   \n",
       "174         Vietnam          65  37934404.0          2715.276036   \n",
       "175          Zambia          34   4743400.0          1291.343357   \n",
       "176        Zimbabwe          24   3659454.0          1463.985910   \n",
       "\n",
       "     1960 urban population%  2019 urban population%  \\\n",
       "0                     8.401                  25.754   \n",
       "1                    30.705                  61.229   \n",
       "2                    30.510                  73.189   \n",
       "3                    66.211                  87.147   \n",
       "4                    58.450                  87.984   \n",
       "..                      ...                     ...   \n",
       "172                  33.978                  50.433   \n",
       "173                  10.404                  25.394   \n",
       "174                  14.700                  36.628   \n",
       "175                  18.145                  44.072   \n",
       "176                  12.608                  32.210   \n",
       "\n",
       "     change of urbanization % since 1960  2014 usable water per capita  \\\n",
       "0                                 17.353                   1412.912141   \n",
       "1                                 30.524                   9310.845162   \n",
       "2                                 42.679                    289.027090   \n",
       "3                                 20.936                   -999.000000   \n",
       "4                                 29.534                   3984.194514   \n",
       "..                                   ...                           ...   \n",
       "172                               16.455                    531.249086   \n",
       "173                               14.990                  37894.864490   \n",
       "174                               21.928                   3918.678374   \n",
       "175                               25.927                   5207.875737   \n",
       "176                               19.602                    902.354298   \n",
       "\n",
       "     2019 FDI data  \n",
       "0     2.340455e+07  \n",
       "1     1.201022e+09  \n",
       "2     1.381890e+09  \n",
       "3    -9.990000e+02  \n",
       "4    -9.990000e+02  \n",
       "..             ...  \n",
       "172   2.314621e+09  \n",
       "173   4.100000e+07  \n",
       "174   1.612000e+10  \n",
       "175   5.479679e+08  \n",
       "176   2.800000e+08  \n",
       "\n",
       "[177 rows x 9 columns]"
      ]
     },
     "execution_count": 24,
     "metadata": {},
     "output_type": "execute_result"
    }
   ],
   "source": [
    "\n",
    "## Let us work on the missing values\n",
    "IV_data.replace(to_replace = np.nan, value = -999) "
   ]
  },
  {
   "cell_type": "code",
   "execution_count": 25,
   "metadata": {},
   "outputs": [
    {
     "data": {
      "image/png": "[encoded data removed]",
      "text/plain": [
       "<Figure size 1440x1080 with 9 Axes>"
      ]
     },
     "metadata": {
      "needs_background": "light"
     },
     "output_type": "display_data"
    }
   ],
   "source": [
    "num_bins = 10\n",
    "\n",
    "IV_data.hist(bins = num_bins, figsize=(20,15))\n",
    "plt.savefig(\"HistogramPlots\")\n",
    "plt.show()"
   ]
  },
  {
   "cell_type": "code",
   "execution_count": 26,
   "metadata": {},
   "outputs": [
    {
     "data": {
      "text/plain": [
       "country                                 object\n",
       "city_ascii                               int64\n",
       "population                             float64\n",
       "2019 GDP per capita                    float64\n",
       "1960 urban population%                 float64\n",
       "2019 urban population%                 float64\n",
       "change of urbanization % since 1960    float64\n",
       "2014 usable water per capita           float64\n",
       "2019 FDI data                          float64\n",
       "dtype: object"
      ]
     },
     "execution_count": 26,
     "metadata": {},
     "output_type": "execute_result"
    }
   ],
   "source": [
    "# listing Datatypes  \n",
    "IV_data.dtypes"
   ]
  },
  {
   "cell_type": "code",
   "execution_count": 27,
   "metadata": {},
   "outputs": [],
   "source": [
    "##creating a output csv file\n",
    "IV_data.to_csv(\"C:/Users/VIOLIN/Desktop/Final-Project_Harshini-/Project Part -2/Processed data part2/IV_data.csv\", sep=',',index=False)"
   ]
  },
  {
   "cell_type": "code",
   "execution_count": null,
   "metadata": {},
   "outputs": [],
   "source": []
  }
 ],
 "metadata": {
  "kernelspec": {
   "display_name": "Python 3",
   "language": "python",
   "name": "python3"
  },
  "language_info": {
   "codemirror_mode": {
    "name": "ipython",
    "version": 3
   },
   "file_extension": ".py",
   "mimetype": "text/x-python",
   "name": "python",
   "nbconvert_exporter": "python",
   "pygments_lexer": "ipython3",
   "version": "3.8.3"
  }
 },
 "nbformat": 4,
 "nbformat_minor": 4
}
