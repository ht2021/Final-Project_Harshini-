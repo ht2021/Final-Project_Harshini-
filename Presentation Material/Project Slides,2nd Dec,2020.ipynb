{
 "cells": [
  {
   "cell_type": "code",
   "execution_count": 11,
   "metadata": {},
   "outputs": [
    {
     "data": {
      "text/plain": [
       "' Ref for slide types:  \\n0 ->  title and subtitle \\n1 ->  title and content \\n2 ->  section header \\n3 ->  two content \\n4 ->  Comparison \\n5 ->  Title only  \\n6 ->  Blank \\n7 ->  Content with caption \\n8 ->  Pic with caption \\n'"
      ]
     },
     "execution_count": 11,
     "metadata": {},
     "output_type": "execute_result"
    }
   ],
   "source": [
    "\n",
    "\n",
    "# import Presentation class \n",
    "# from pptx library \n",
    "from pptx import Presentation \n",
    "from pptx.util import Inches\n",
    "import os\n",
    "  \n",
    "# Creating presentation object \n",
    "root = Presentation() \n",
    "  \n",
    "# Creating slide1 layout \n",
    "first_slide_layout = root.slide_layouts[0]  \n",
    "\n",
    "\"\"\" Ref for slide types:  \n",
    "0 ->  title and subtitle \n",
    "1 ->  title and content \n",
    "2 ->  section header \n",
    "3 ->  two content \n",
    "4 ->  Comparison \n",
    "5 ->  Title only  \n",
    "6 ->  Blank \n",
    "7 ->  Content with caption \n",
    "8 ->  Pic with caption \n",
    "\"\"\"\n"
   ]
  },
  {
   "cell_type": "markdown",
   "metadata": {},
   "source": [
    "#### Introduction Slide - Slide 1"
   ]
  },
  {
   "cell_type": "code",
   "execution_count": 12,
   "metadata": {},
   "outputs": [],
   "source": [
    "\n",
    "# Creating slide object to add  in ppt i.e. Attaching slideswith Presentation i.e. ppt \n",
    "slide1 = root.slides.add_slide(first_slide_layout) \n",
    "  # Adding title and subtitle in slide i.e. first page of slide  \n",
    "slide1.shapes.title.text = \"                                   PPOL 564\"\n",
    "slide1.placeholders[1].text = \" Project presented by Harshini\"\n",
    "\n",
    "img1 = 'C:/Users/VIOLIN/Desktop/Final-Project_Harshini-/Presentation Material/Intro image.jpg'\n",
    "left = top = Inches(0.05)\n",
    "pic = slide1.shapes.add_picture(img1,left, top) \n",
    "\n"
   ]
  },
  {
   "cell_type": "markdown",
   "metadata": {},
   "source": [
    "#### Body slides Format"
   ]
  },
  {
   "cell_type": "code",
   "execution_count": 13,
   "metadata": {},
   "outputs": [],
   "source": [
    "# Creating slide2,3,4,5,6,7,8,9,10 layout \n",
    "second_slide_layout = root.slide_layouts[1]  "
   ]
  },
  {
   "cell_type": "markdown",
   "metadata": {},
   "source": [
    "#### Slide 2"
   ]
  },
  {
   "cell_type": "code",
   "execution_count": 14,
   "metadata": {},
   "outputs": [],
   "source": [
    "# Creating slide object to add  in ppt i.e. Attaching slides with Presentation i.e. ppt \n",
    "slide2 = root.slides.add_slide(second_slide_layout) \n",
    "  # Adding title and subtitle in slide i.e. first page of slide  \n",
    "slide2.shapes.title.text = \" Background\"\n",
    "slide2.placeholders[1].text = \" It is expected that 68% of the world’s population will live in cities by 2050 and even now it is 55%.Hence ensuring that cities are sustainable and eco-friendly is critical.Many cities around the world have already begun to adopt sustainable practices and many more will follow the path in future.In this backdrop, my project focuses on which city stands where and what are the various factors that influence the sustainability of a city.\"\n"
   ]
  },
  {
   "cell_type": "markdown",
   "metadata": {},
   "source": [
    "#### Slide 3"
   ]
  },
  {
   "cell_type": "code",
   "execution_count": 15,
   "metadata": {},
   "outputs": [],
   "source": [
    "# Creating slide object to add  in ppt i.e. Attaching slides with Presentation i.e. ppt \n",
    "slide3 = root.slides.add_slide(second_slide_layout) \n",
    "  # Adding title and subtitle in slide i.e. first page of slide  \n",
    "slide3.shapes.title.text = \" Problem Statement \"\n",
    "slide3.placeholders[1].text = \" The first part of my project focuses on creating a composite sustainability variable to measure and rank various cities across the world. For this I chose 8 Sustainability parameters on which a city will be measured and a composite variable will be created.\"\n"
   ]
  },
  {
   "cell_type": "markdown",
   "metadata": {},
   "source": [
    "#### Slide 4"
   ]
  },
  {
   "cell_type": "code",
   "execution_count": 16,
   "metadata": {},
   "outputs": [],
   "source": [
    "# Creating slide object to add  in ppt i.e. Attaching slides with Presentation i.e. ppt \n",
    "slide4 = root.slides.add_slide(second_slide_layout) \n",
    "  # Adding title and subtitle in slide i.e. first page of slide  \n",
    "slide4.shapes.title.text = \" Problem Statement\"\n",
    "slide4.placeholders[1].text = \" After defining the sustainability variable, cities will be ranked based on this. Finally, I would study various independent variables that could possibly influence the sustainability of cities and correlation between them using OLS.\"\n"
   ]
  },
  {
   "cell_type": "markdown",
   "metadata": {},
   "source": [
    "#### Slide 5"
   ]
  },
  {
   "cell_type": "code",
   "execution_count": 17,
   "metadata": {},
   "outputs": [],
   "source": [
    "\n",
    "\n",
    "# Creating slide object to add  in ppt i.e. Attaching slides with Presentation i.e. ppt \n",
    "slide5 = root.slides.add_slide(second_slide_layout) \n",
    "  # Adding title and subtitle in slide i.e. first page of slide  \n",
    "slide5.shapes.title.text = \" Methods/Approaches considered\"\n",
    "slide5.placeholders[1].text = \"Joining dataframes, Groupby, Web scrapping, Data visualization using rapidminer. For Modelling – OLS;\""
   ]
  },
  {
   "cell_type": "markdown",
   "metadata": {},
   "source": [
    "#### Slide 6"
   ]
  },
  {
   "cell_type": "code",
   "execution_count": 18,
   "metadata": {},
   "outputs": [],
   "source": [
    "# Creating slide object to add  in ppt i.e. Attaching slides with Presentation i.e. ppt \n",
    "slide6 = root.slides.add_slide(second_slide_layout) \n",
    "  # Adding title and subtitle in slide i.e. first page of slide  \n",
    "slide6.shapes.title.text = \" Methods & Tools Applied\"\n",
    "slide6.placeholders[1].text = \" Handling missing values. Splitting and Merging data frames, Groupby, Web scrapping, Data visualization using bar charts. \"\n"
   ]
  },
  {
   "cell_type": "code",
   "execution_count": 19,
   "metadata": {},
   "outputs": [],
   "source": [
    "# for adding pictures\n",
    "third_slide_layout = root.slide_layouts[8]  \n",
    "# for adding Thank you \n",
    "fourth_slide_layout = root.slide_layouts[5]  "
   ]
  },
  {
   "cell_type": "markdown",
   "metadata": {},
   "source": [
    "#### Slide 7"
   ]
  },
  {
   "cell_type": "code",
   "execution_count": 20,
   "metadata": {},
   "outputs": [],
   "source": [
    "\n",
    "\n",
    "# Creating slide object to add  in ppt i.e. Attaching slides with Presentation i.e. ppt \n",
    "slide7 = root.slides.add_slide(fourth_slide_layout) \n",
    "  # Adding title and subtitle in slide i.e. first page of slide  \n",
    "slide7.shapes.title.text = \" Preliminary results-City data\"\n",
    "img2 = 'C:/Users/VIOLIN/Desktop/Final-Project_Harshini-/Presentation Material/city_country_sample.jpg'\n",
    "right = top = Inches(2)\n",
    "pic = slide7.shapes.add_picture(img2, right, top) \n",
    "\n"
   ]
  },
  {
   "cell_type": "markdown",
   "metadata": {},
   "source": [
    "#### Slide 8"
   ]
  },
  {
   "cell_type": "code",
   "execution_count": 21,
   "metadata": {},
   "outputs": [],
   "source": [
    "\n",
    "\n",
    "\n",
    "# Creating slide object to add  in ppt i.e. Attaching slides with Presentation i.e. ppt \n",
    "slide8 = root.slides.add_slide(fourth_slide_layout) \n",
    "  # Adding title and subtitle in slide i.e. first page of slide  \n",
    "slide8.shapes.title.text = \" Preliminary results-SP1 data\"\n",
    "img3 = 'C:/Users/VIOLIN/Desktop/Final-Project_Harshini-/Presentation Material/urban gg emissions.jpg'\n",
    "right = top = Inches(2)\n",
    "pic = slide8.shapes.add_picture(img3, right, top) "
   ]
  },
  {
   "cell_type": "markdown",
   "metadata": {},
   "source": [
    "#### Slide 9"
   ]
  },
  {
   "cell_type": "code",
   "execution_count": 22,
   "metadata": {},
   "outputs": [],
   "source": [
    "\n",
    "\n",
    "# Creating slide object to add  in ppt i.e. Attaching slides with Presentation i.e. ppt \n",
    "slide9 = root.slides.add_slide(second_slide_layout) \n",
    "  # Adding title and subtitle in slide i.e. first page of slide  \n",
    "slide9.shapes.title.text = \" Conclusion-Challenges\"\n",
    "slide9.placeholders[1].text = \" Datasets have a lot of missing values ! I am still figuring out on how  I will be able to pull enough data with all the Sustainability parameters covered. Most of the data is available at country level, Though I have used some standards to bring it to city level, I am worried this might influence the results. Modelling – Wondering which machine learning technique works best for this!\" "
   ]
  },
  {
   "cell_type": "markdown",
   "metadata": {},
   "source": [
    "#### Slide 10"
   ]
  },
  {
   "cell_type": "code",
   "execution_count": 23,
   "metadata": {},
   "outputs": [],
   "source": [
    "\n",
    "\n",
    "\n",
    "# Creating slide object to add  in ppt i.e. Attaching slides with Presentation i.e. ppt \n",
    "slide10 = root.slides.add_slide(second_slide_layout) \n",
    "  # Adding title and subtitle in slide i.e. first page of slide  \n",
    "slide10.shapes.title.text = \" Conclusion\"\n",
    "slide10.placeholders[1].text = \"Further action :Data visualizations and processing for the rest of the Sustainability parameters. Statistical analysis of the parameter with independent variables. \""
   ]
  },
  {
   "cell_type": "markdown",
   "metadata": {},
   "source": [
    "#### Slide 11"
   ]
  },
  {
   "cell_type": "code",
   "execution_count": 24,
   "metadata": {},
   "outputs": [],
   "source": [
    "\n",
    "# Creating slide object to add  in ppt i.e. Attaching slides with Presentation i.e. ppt \n",
    "slide11 = root.slides.add_slide(fourth_slide_layout) \n",
    "\n",
    "img1 = 'C:/Users/VIOLIN/Desktop/Final-Project_Harshini-/Presentation Material/Intro image.jpg'\n",
    "left = top = Inches(0.05)\n",
    "pic = slide11.shapes.add_picture(img1,left, top,width=None, height=None) \n",
    "slide11.shapes.title.text = \"                                     THANK YOU\"\n"
   ]
  },
  {
   "cell_type": "code",
   "execution_count": 25,
   "metadata": {},
   "outputs": [
    {
     "name": "stdout",
     "output_type": "stream",
     "text": [
      "Succesfully created the Project Presentation Slides for Dec 2,2020 Submission\n"
     ]
    }
   ],
   "source": [
    "\n",
    "\n",
    "  \n",
    "# Saving file \n",
    "root.save(\"Project Presentation_Data Science.pptx\") \n",
    "  \n",
    "print(\"Succesfully created the Project Presentation Slides for Dec 2,2020 Submission\") "
   ]
  },
  {
   "cell_type": "code",
   "execution_count": null,
   "metadata": {},
   "outputs": [],
   "source": []
  },
  {
   "cell_type": "code",
   "execution_count": null,
   "metadata": {},
   "outputs": [],
   "source": []
  }
 ],
 "metadata": {
  "kernelspec": {
   "display_name": "Python 3",
   "language": "python",
   "name": "python3"
  },
  "language_info": {
   "codemirror_mode": {
    "name": "ipython",
    "version": 3
   },
   "file_extension": ".py",
   "mimetype": "text/x-python",
   "name": "python",
   "nbconvert_exporter": "python",
   "pygments_lexer": "ipython3",
   "version": "3.8.3"
  }
 },
 "nbformat": 4,
 "nbformat_minor": 4
}
