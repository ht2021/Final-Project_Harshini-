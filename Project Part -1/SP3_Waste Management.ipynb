{
 "cells": [
  {
   "cell_type": "markdown",
   "metadata": {},
   "source": [
    "## Sustainability parameter 3 - Waste Management"
   ]
  },
  {
   "cell_type": "code",
   "execution_count": 60,
   "metadata": {},
   "outputs": [],
   "source": [
    "## Importing required packages\n",
    "import pandas as pd \n",
    "import numpy as np \n",
    "import missingno as miss\n"
   ]
  },
  {
   "cell_type": "code",
   "execution_count": 61,
   "metadata": {},
   "outputs": [
    {
     "data": {
      "text/html": [
       "<div>\n",
       "<style scoped>\n",
       "    .dataframe tbody tr th:only-of-type {\n",
       "        vertical-align: middle;\n",
       "    }\n",
       "\n",
       "    .dataframe tbody tr th {\n",
       "        vertical-align: top;\n",
       "    }\n",
       "\n",
       "    .dataframe thead th {\n",
       "        text-align: right;\n",
       "    }\n",
       "</style>\n",
       "<table border=\"1\" class=\"dataframe\">\n",
       "  <thead>\n",
       "    <tr style=\"text-align: right;\">\n",
       "      <th></th>\n",
       "      <th>iso3c</th>\n",
       "      <th>region_id</th>\n",
       "      <th>country_name</th>\n",
       "      <th>income_id</th>\n",
       "      <th>city_name</th>\n",
       "      <th>additional_data_annual_budget_for_waste_management_year</th>\n",
       "      <th>additional_data_annual_solid_waste_budget_year</th>\n",
       "      <th>additional_data_annual_swm_budget_2017_year</th>\n",
       "      <th>additional_data_annual_swm_budget_year</th>\n",
       "      <th>additional_data_annual_waste_budget_year</th>\n",
       "      <th>...</th>\n",
       "      <th>waste_treatment_compost_percent</th>\n",
       "      <th>waste_treatment_controlled_landfill_percent</th>\n",
       "      <th>waste_treatment_incineration_percent</th>\n",
       "      <th>waste_treatment_landfill_unspecified_percent</th>\n",
       "      <th>waste_treatment_open_dump_percent</th>\n",
       "      <th>waste_treatment_other_percent</th>\n",
       "      <th>waste_treatment_recycling_percent</th>\n",
       "      <th>waste_treatment_sanitary_landfill_landfill_gas_system_percent</th>\n",
       "      <th>waste_treatment_unaccounted_for_percent</th>\n",
       "      <th>waste_treatment_waterways_marine_percent</th>\n",
       "    </tr>\n",
       "  </thead>\n",
       "  <tbody>\n",
       "    <tr>\n",
       "      <th>0</th>\n",
       "      <td>AFG</td>\n",
       "      <td>SAS</td>\n",
       "      <td>Afghanistan</td>\n",
       "      <td>LIC</td>\n",
       "      <td>Jalalabad</td>\n",
       "      <td>NaN</td>\n",
       "      <td>NaN</td>\n",
       "      <td>NaN</td>\n",
       "      <td>NaN</td>\n",
       "      <td>NaN</td>\n",
       "      <td>...</td>\n",
       "      <td>NaN</td>\n",
       "      <td>NaN</td>\n",
       "      <td>NaN</td>\n",
       "      <td>NaN</td>\n",
       "      <td>100.0</td>\n",
       "      <td>NaN</td>\n",
       "      <td>NaN</td>\n",
       "      <td>NaN</td>\n",
       "      <td>NaN</td>\n",
       "      <td>NaN</td>\n",
       "    </tr>\n",
       "    <tr>\n",
       "      <th>1</th>\n",
       "      <td>AFG</td>\n",
       "      <td>SAS</td>\n",
       "      <td>Afghanistan</td>\n",
       "      <td>LIC</td>\n",
       "      <td>Kandahar</td>\n",
       "      <td>NaN</td>\n",
       "      <td>NaN</td>\n",
       "      <td>NaN</td>\n",
       "      <td>NaN</td>\n",
       "      <td>NaN</td>\n",
       "      <td>...</td>\n",
       "      <td>NaN</td>\n",
       "      <td>NaN</td>\n",
       "      <td>NaN</td>\n",
       "      <td>NaN</td>\n",
       "      <td>100.0</td>\n",
       "      <td>NaN</td>\n",
       "      <td>NaN</td>\n",
       "      <td>NaN</td>\n",
       "      <td>NaN</td>\n",
       "      <td>NaN</td>\n",
       "    </tr>\n",
       "    <tr>\n",
       "      <th>2</th>\n",
       "      <td>AFG</td>\n",
       "      <td>SAS</td>\n",
       "      <td>Afghanistan</td>\n",
       "      <td>LIC</td>\n",
       "      <td>Mazar-E-Sharif</td>\n",
       "      <td>NaN</td>\n",
       "      <td>NaN</td>\n",
       "      <td>NaN</td>\n",
       "      <td>NaN</td>\n",
       "      <td>NaN</td>\n",
       "      <td>...</td>\n",
       "      <td>NaN</td>\n",
       "      <td>NaN</td>\n",
       "      <td>NaN</td>\n",
       "      <td>NaN</td>\n",
       "      <td>100.0</td>\n",
       "      <td>NaN</td>\n",
       "      <td>NaN</td>\n",
       "      <td>NaN</td>\n",
       "      <td>NaN</td>\n",
       "      <td>NaN</td>\n",
       "    </tr>\n",
       "    <tr>\n",
       "      <th>3</th>\n",
       "      <td>AFG</td>\n",
       "      <td>SAS</td>\n",
       "      <td>Afghanistan</td>\n",
       "      <td>LIC</td>\n",
       "      <td>Kabul</td>\n",
       "      <td>NaN</td>\n",
       "      <td>NaN</td>\n",
       "      <td>NaN</td>\n",
       "      <td>NaN</td>\n",
       "      <td>NaN</td>\n",
       "      <td>...</td>\n",
       "      <td>NaN</td>\n",
       "      <td>NaN</td>\n",
       "      <td>NaN</td>\n",
       "      <td>NaN</td>\n",
       "      <td>75.0</td>\n",
       "      <td>NaN</td>\n",
       "      <td>NaN</td>\n",
       "      <td>NaN</td>\n",
       "      <td>25.0</td>\n",
       "      <td>NaN</td>\n",
       "    </tr>\n",
       "    <tr>\n",
       "      <th>4</th>\n",
       "      <td>AFG</td>\n",
       "      <td>SAS</td>\n",
       "      <td>Afghanistan</td>\n",
       "      <td>LIC</td>\n",
       "      <td>HiratÂ</td>\n",
       "      <td>NaN</td>\n",
       "      <td>NaN</td>\n",
       "      <td>NaN</td>\n",
       "      <td>NaN</td>\n",
       "      <td>NaN</td>\n",
       "      <td>...</td>\n",
       "      <td>NaN</td>\n",
       "      <td>NaN</td>\n",
       "      <td>NaN</td>\n",
       "      <td>NaN</td>\n",
       "      <td>100.0</td>\n",
       "      <td>NaN</td>\n",
       "      <td>NaN</td>\n",
       "      <td>NaN</td>\n",
       "      <td>NaN</td>\n",
       "      <td>NaN</td>\n",
       "    </tr>\n",
       "  </tbody>\n",
       "</table>\n",
       "<p>5 rows × 113 columns</p>\n",
       "</div>"
      ],
      "text/plain": [
       "  iso3c region_id country_name income_id       city_name  \\\n",
       "0   AFG       SAS  Afghanistan       LIC       Jalalabad   \n",
       "1   AFG       SAS  Afghanistan       LIC        Kandahar   \n",
       "2   AFG       SAS  Afghanistan       LIC  Mazar-E-Sharif   \n",
       "3   AFG       SAS  Afghanistan       LIC           Kabul   \n",
       "4   AFG       SAS  Afghanistan       LIC         HiratÂ    \n",
       "\n",
       "  additional_data_annual_budget_for_waste_management_year  \\\n",
       "0                                                NaN        \n",
       "1                                                NaN        \n",
       "2                                                NaN        \n",
       "3                                                NaN        \n",
       "4                                                NaN        \n",
       "\n",
       "  additional_data_annual_solid_waste_budget_year  \\\n",
       "0                                            NaN   \n",
       "1                                            NaN   \n",
       "2                                            NaN   \n",
       "3                                            NaN   \n",
       "4                                            NaN   \n",
       "\n",
       "   additional_data_annual_swm_budget_2017_year  \\\n",
       "0                                          NaN   \n",
       "1                                          NaN   \n",
       "2                                          NaN   \n",
       "3                                          NaN   \n",
       "4                                          NaN   \n",
       "\n",
       "   additional_data_annual_swm_budget_year  \\\n",
       "0                                     NaN   \n",
       "1                                     NaN   \n",
       "2                                     NaN   \n",
       "3                                     NaN   \n",
       "4                                     NaN   \n",
       "\n",
       "   additional_data_annual_waste_budget_year  ...  \\\n",
       "0                                       NaN  ...   \n",
       "1                                       NaN  ...   \n",
       "2                                       NaN  ...   \n",
       "3                                       NaN  ...   \n",
       "4                                       NaN  ...   \n",
       "\n",
       "   waste_treatment_compost_percent  \\\n",
       "0                              NaN   \n",
       "1                              NaN   \n",
       "2                              NaN   \n",
       "3                              NaN   \n",
       "4                              NaN   \n",
       "\n",
       "   waste_treatment_controlled_landfill_percent  \\\n",
       "0                                          NaN   \n",
       "1                                          NaN   \n",
       "2                                          NaN   \n",
       "3                                          NaN   \n",
       "4                                          NaN   \n",
       "\n",
       "  waste_treatment_incineration_percent  \\\n",
       "0                                  NaN   \n",
       "1                                  NaN   \n",
       "2                                  NaN   \n",
       "3                                  NaN   \n",
       "4                                  NaN   \n",
       "\n",
       "  waste_treatment_landfill_unspecified_percent  \\\n",
       "0                                          NaN   \n",
       "1                                          NaN   \n",
       "2                                          NaN   \n",
       "3                                          NaN   \n",
       "4                                          NaN   \n",
       "\n",
       "  waste_treatment_open_dump_percent  waste_treatment_other_percent  \\\n",
       "0                             100.0                            NaN   \n",
       "1                             100.0                            NaN   \n",
       "2                             100.0                            NaN   \n",
       "3                              75.0                            NaN   \n",
       "4                             100.0                            NaN   \n",
       "\n",
       "   waste_treatment_recycling_percent  \\\n",
       "0                                NaN   \n",
       "1                                NaN   \n",
       "2                                NaN   \n",
       "3                                NaN   \n",
       "4                                NaN   \n",
       "\n",
       "   waste_treatment_sanitary_landfill_landfill_gas_system_percent  \\\n",
       "0                                                NaN               \n",
       "1                                                NaN               \n",
       "2                                                NaN               \n",
       "3                                                NaN               \n",
       "4                                                NaN               \n",
       "\n",
       "  waste_treatment_unaccounted_for_percent  \\\n",
       "0                                     NaN   \n",
       "1                                     NaN   \n",
       "2                                     NaN   \n",
       "3                                    25.0   \n",
       "4                                     NaN   \n",
       "\n",
       "  waste_treatment_waterways_marine_percent  \n",
       "0                                      NaN  \n",
       "1                                      NaN  \n",
       "2                                      NaN  \n",
       "3                                      NaN  \n",
       "4                                      NaN  \n",
       "\n",
       "[5 rows x 113 columns]"
      ]
     },
     "execution_count": 61,
     "metadata": {},
     "output_type": "execute_result"
    }
   ],
   "source": [
    "##Loading data\n",
    "raw_data_waste = pd.read_csv(\"C:/Users/VIOLIN/Desktop/Final-Project_Harshini-/Data/city_level_data_waste.csv\")\n",
    "##Printing data\n",
    "raw_data_waste.head()\n"
   ]
  },
  {
   "cell_type": "code",
   "execution_count": 62,
   "metadata": {},
   "outputs": [
    {
     "name": "stdout",
     "output_type": "stream",
     "text": [
      "         country            msw_year\n",
      "0    Afghanistan            58914.45\n",
      "1    Afghanistan              120971\n",
      "2    Afghanistan             52368.4\n",
      "3    Afghanistan             1989250\n",
      "4    Afghanistan             91644.7\n",
      "..           ...                 ...\n",
      "362     Zimbabwe            352334.5\n",
      "363     Zimbabwe  37887.599999999999\n",
      "364     Zimbabwe  7423.3600000000006\n",
      "365     Zimbabwe                 NaN\n",
      "366     Zimbabwe                 NaN\n",
      "\n",
      "[367 rows x 2 columns]\n"
     ]
    }
   ],
   "source": [
    "## Picking the necessary columns\n",
    "\n",
    "waste = raw_data_waste[['country_name','total_msw_total_msw_generated_tons_year']]\n",
    "waste.columns = ['country','msw_year']\n",
    "print(waste)"
   ]
  },
  {
   "cell_type": "code",
   "execution_count": 63,
   "metadata": {},
   "outputs": [
    {
     "data": {
      "text/plain": [
       "<matplotlib.axes._subplots.AxesSubplot at 0x22e41d07d00>"
      ]
     },
     "execution_count": 63,
     "metadata": {},
     "output_type": "execute_result"
    },
    {
     "data": {
      "image/png": "[encoded data removed]",
      "text/plain": [
       "<Figure size 1800x720 with 2 Axes>"
      ]
     },
     "metadata": {
      "needs_background": "light"
     },
     "output_type": "display_data"
    }
   ],
   "source": [
    "#Checked to see if that dataset was complete\n",
    "miss.matrix(waste)"
   ]
  },
  {
   "cell_type": "code",
   "execution_count": 64,
   "metadata": {},
   "outputs": [
    {
     "data": {
      "text/plain": [
       "country     object\n",
       "msw_year    object\n",
       "dtype: object"
      ]
     },
     "execution_count": 64,
     "metadata": {},
     "output_type": "execute_result"
    }
   ],
   "source": [
    "waste.dtypes\n",
    "## We need to convert the total msw into integer"
   ]
  },
  {
   "cell_type": "code",
   "execution_count": 65,
   "metadata": {},
   "outputs": [
    {
     "name": "stderr",
     "output_type": "stream",
     "text": [
      "<ipython-input-65-9783610f06da>:1: SettingWithCopyWarning: \n",
      "A value is trying to be set on a copy of a slice from a DataFrame.\n",
      "Try using .loc[row_indexer,col_indexer] = value instead\n",
      "\n",
      "See the caveats in the documentation: https://pandas.pydata.org/pandas-docs/stable/user_guide/indexing.html#returning-a-view-versus-a-copy\n",
      "  waste['msw_year'] = pd.to_numeric(waste['msw_year'],errors='coerce')\n"
     ]
    }
   ],
   "source": [
    "waste['msw_year'] = pd.to_numeric(waste['msw_year'],errors='coerce')"
   ]
  },
  {
   "cell_type": "code",
   "execution_count": 66,
   "metadata": {},
   "outputs": [
    {
     "data": {
      "text/plain": [
       "country      object\n",
       "msw_year    float64\n",
       "dtype: object"
      ]
     },
     "execution_count": 66,
     "metadata": {},
     "output_type": "execute_result"
    }
   ],
   "source": [
    "waste.dtypes"
   ]
  },
  {
   "cell_type": "code",
   "execution_count": 67,
   "metadata": {},
   "outputs": [
    {
     "data": {
      "text/html": [
       "<div>\n",
       "<style scoped>\n",
       "    .dataframe tbody tr th:only-of-type {\n",
       "        vertical-align: middle;\n",
       "    }\n",
       "\n",
       "    .dataframe tbody tr th {\n",
       "        vertical-align: top;\n",
       "    }\n",
       "\n",
       "    .dataframe thead th {\n",
       "        text-align: right;\n",
       "    }\n",
       "</style>\n",
       "<table border=\"1\" class=\"dataframe\">\n",
       "  <thead>\n",
       "    <tr style=\"text-align: right;\">\n",
       "      <th></th>\n",
       "      <th>country</th>\n",
       "      <th>msw_year</th>\n",
       "    </tr>\n",
       "  </thead>\n",
       "  <tbody>\n",
       "    <tr>\n",
       "      <th>0</th>\n",
       "      <td>Afghanistan</td>\n",
       "      <td>58914.45</td>\n",
       "    </tr>\n",
       "    <tr>\n",
       "      <th>1</th>\n",
       "      <td>Afghanistan</td>\n",
       "      <td>120971.00</td>\n",
       "    </tr>\n",
       "    <tr>\n",
       "      <th>2</th>\n",
       "      <td>Afghanistan</td>\n",
       "      <td>52368.40</td>\n",
       "    </tr>\n",
       "    <tr>\n",
       "      <th>3</th>\n",
       "      <td>Afghanistan</td>\n",
       "      <td>1989250.00</td>\n",
       "    </tr>\n",
       "    <tr>\n",
       "      <th>4</th>\n",
       "      <td>Afghanistan</td>\n",
       "      <td>91644.70</td>\n",
       "    </tr>\n",
       "    <tr>\n",
       "      <th>...</th>\n",
       "      <td>...</td>\n",
       "      <td>...</td>\n",
       "    </tr>\n",
       "    <tr>\n",
       "      <th>362</th>\n",
       "      <td>Zimbabwe</td>\n",
       "      <td>352334.50</td>\n",
       "    </tr>\n",
       "    <tr>\n",
       "      <th>363</th>\n",
       "      <td>Zimbabwe</td>\n",
       "      <td>37887.60</td>\n",
       "    </tr>\n",
       "    <tr>\n",
       "      <th>364</th>\n",
       "      <td>Zimbabwe</td>\n",
       "      <td>7423.36</td>\n",
       "    </tr>\n",
       "    <tr>\n",
       "      <th>365</th>\n",
       "      <td>Zimbabwe</td>\n",
       "      <td>0.00</td>\n",
       "    </tr>\n",
       "    <tr>\n",
       "      <th>366</th>\n",
       "      <td>Zimbabwe</td>\n",
       "      <td>0.00</td>\n",
       "    </tr>\n",
       "  </tbody>\n",
       "</table>\n",
       "<p>367 rows × 2 columns</p>\n",
       "</div>"
      ],
      "text/plain": [
       "         country    msw_year\n",
       "0    Afghanistan    58914.45\n",
       "1    Afghanistan   120971.00\n",
       "2    Afghanistan    52368.40\n",
       "3    Afghanistan  1989250.00\n",
       "4    Afghanistan    91644.70\n",
       "..           ...         ...\n",
       "362     Zimbabwe   352334.50\n",
       "363     Zimbabwe    37887.60\n",
       "364     Zimbabwe     7423.36\n",
       "365     Zimbabwe        0.00\n",
       "366     Zimbabwe        0.00\n",
       "\n",
       "[367 rows x 2 columns]"
      ]
     },
     "execution_count": 67,
     "metadata": {},
     "output_type": "execute_result"
    }
   ],
   "source": [
    "waste.replace(to_replace = np.nan, value = 0)  "
   ]
  },
  {
   "cell_type": "code",
   "execution_count": 68,
   "metadata": {},
   "outputs": [
    {
     "name": "stdout",
     "output_type": "stream",
     "text": [
      "                country    msw_year\n",
      "0           Afghanistan  2313148.55\n",
      "1               Albania    58955.00\n",
      "2               Algeria  1397874.00\n",
      "3        American Samoa        0.00\n",
      "4                Angola  1316336.00\n",
      "..                  ...         ...\n",
      "159             Vietnam  4909250.00\n",
      "160  West Bank and Gaza        0.00\n",
      "161         Yemen, Rep.   510420.89\n",
      "162              Zambia   615979.40\n",
      "163            Zimbabwe   437146.50\n",
      "\n",
      "[164 rows x 2 columns]\n"
     ]
    }
   ],
   "source": [
    "## taking population data by country\n",
    "\n",
    "waste = waste.groupby('country').msw_year.sum()\n",
    "waste = waste.reset_index()\n",
    "print(waste) "
   ]
  },
  {
   "cell_type": "code",
   "execution_count": 69,
   "metadata": {},
   "outputs": [],
   "source": [
    "waste.to_csv(\"C:/Users/VIOLIN/Desktop/Final-Project_Harshini-/Project Part -1/Processed data - part 1/SP3_output.csv\", sep=',',index=False)"
   ]
  },
  {
   "cell_type": "code",
   "execution_count": null,
   "metadata": {},
   "outputs": [],
   "source": []
  }
 ],
 "metadata": {
  "kernelspec": {
   "display_name": "Python 3",
   "language": "python",
   "name": "python3"
  },
  "language_info": {
   "codemirror_mode": {
    "name": "ipython",
    "version": 3
   },
   "file_extension": ".py",
   "mimetype": "text/x-python",
   "name": "python",
   "nbconvert_exporter": "python",
   "pygments_lexer": "ipython3",
   "version": "3.8.3"
  }
 },
 "nbformat": 4,
 "nbformat_minor": 4
}
