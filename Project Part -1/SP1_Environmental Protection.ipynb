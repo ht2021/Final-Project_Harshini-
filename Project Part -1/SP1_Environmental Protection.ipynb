{
 "cells": [
  {
   "cell_type": "markdown",
   "metadata": {},
   "source": [
    "## Sustainability parameter 1 - Environmental Protection : Level of Carbon footprint, Air Pollution, Energy efficiency"
   ]
  },
  {
   "cell_type": "code",
   "execution_count": 2,
   "metadata": {},
   "outputs": [],
   "source": [
    "## Importing required packages\n",
    "import pandas as pd \n",
    "import numpy as np "
   ]
  },
  {
   "cell_type": "code",
   "execution_count": 3,
   "metadata": {},
   "outputs": [
    {
     "name": "stdout",
     "output_type": "stream",
     "text": [
      "             Country or Area  Year         Value\n",
      "0                  Australia  2017  4.170413e+05\n",
      "1                    Austria  2017  6.997885e+04\n",
      "2                    Belarus  2017  6.269920e+04\n",
      "3                    Belgium  2017  9.756357e+04\n",
      "4                   Bulgaria  2017  4.740163e+04\n",
      "5                     Canada  2017  5.711389e+05\n",
      "6                    Croatia  2017  1.871677e+04\n",
      "7                     Cyprus  2017  7.538492e+03\n",
      "8                    Czechia  2017  1.056073e+05\n",
      "9                    Denmark  2017  3.628332e+04\n",
      "10                   Estonia  2017  1.865447e+04\n",
      "11            European Union  2017  3.515490e+06\n",
      "12                   Finland  2017  4.470490e+04\n",
      "13                    France  2017  3.522848e+05\n",
      "14                   Germany  2017  7.979664e+05\n",
      "15                    Greece  2017  7.484484e+04\n",
      "16                   Hungary  2017  4.964598e+04\n",
      "17                   Iceland  2017  3.614496e+03\n",
      "18                   Ireland  2017  3.872759e+04\n",
      "19                     Italy  2017  3.489914e+05\n",
      "20                     Japan  2017  1.188122e+06\n",
      "21                    Latvia  2017  7.235237e+03\n",
      "22             Liechtenstein  2017  1.551389e+02\n",
      "23                 Lithuania  2017  1.362792e+04\n",
      "24                Luxembourg  2017  9.243461e+03\n",
      "25                     Malta  2017  1.608666e+03\n",
      "26                    Monaco  2017  7.326581e+01\n",
      "27               Netherlands  2017  1.644784e+05\n",
      "28               New Zealand  2017  3.602373e+04\n",
      "29                    Norway  2017  4.370223e+04\n",
      "30                    Poland  2017  3.365568e+05\n",
      "31                  Portugal  2017  5.465774e+04\n",
      "32                   Romania  2017  7.499825e+04\n",
      "33        Russian Federation  2017  1.647041e+06\n",
      "34                  Slovakia  2017  3.603364e+04\n",
      "35                  Slovenia  2017  1.425941e+04\n",
      "36                     Spain  2017  2.744272e+05\n",
      "37                    Sweden  2017  4.204989e+04\n",
      "38               Switzerland  2017  3.817174e+04\n",
      "39                    Turkey  2017  4.253296e+05\n",
      "40                   Ukraine  2017  2.232200e+05\n",
      "41            United Kingdom  2017  3.881011e+05\n",
      "42  United States of America  2017  5.270749e+06\n"
     ]
    }
   ],
   "source": [
    "##Loading Greenhouse gas emissions latest available data 2017\n",
    "raw_data = pd.read_csv(\"C:/Users/VIOLIN/Desktop/Final-Project_Harshini-/Data/UNData_Emissions.csv\")\n",
    "##Printing data\n",
    "print(raw_data)\n"
   ]
  },
  {
   "cell_type": "code",
   "execution_count": 4,
   "metadata": {},
   "outputs": [
    {
     "name": "stdout",
     "output_type": "stream",
     "text": [
      "                Country Name  Year  GG Emissions\n",
      "0                  Australia  2017  4.170413e+05\n",
      "1                    Austria  2017  6.997885e+04\n",
      "2                    Belarus  2017  6.269920e+04\n",
      "3                    Belgium  2017  9.756357e+04\n",
      "4                   Bulgaria  2017  4.740163e+04\n",
      "5                     Canada  2017  5.711389e+05\n",
      "6                    Croatia  2017  1.871677e+04\n",
      "7                     Cyprus  2017  7.538492e+03\n",
      "8                    Czechia  2017  1.056073e+05\n",
      "9                    Denmark  2017  3.628332e+04\n",
      "10                   Estonia  2017  1.865447e+04\n",
      "11            European Union  2017  3.515490e+06\n",
      "12                   Finland  2017  4.470490e+04\n",
      "13                    France  2017  3.522848e+05\n",
      "14                   Germany  2017  7.979664e+05\n",
      "15                    Greece  2017  7.484484e+04\n",
      "16                   Hungary  2017  4.964598e+04\n",
      "17                   Iceland  2017  3.614496e+03\n",
      "18                   Ireland  2017  3.872759e+04\n",
      "19                     Italy  2017  3.489914e+05\n",
      "20                     Japan  2017  1.188122e+06\n",
      "21                    Latvia  2017  7.235237e+03\n",
      "22             Liechtenstein  2017  1.551389e+02\n",
      "23                 Lithuania  2017  1.362792e+04\n",
      "24                Luxembourg  2017  9.243461e+03\n",
      "25                     Malta  2017  1.608666e+03\n",
      "26                    Monaco  2017  7.326581e+01\n",
      "27               Netherlands  2017  1.644784e+05\n",
      "28               New Zealand  2017  3.602373e+04\n",
      "29                    Norway  2017  4.370223e+04\n",
      "30                    Poland  2017  3.365568e+05\n",
      "31                  Portugal  2017  5.465774e+04\n",
      "32                   Romania  2017  7.499825e+04\n",
      "33        Russian Federation  2017  1.647041e+06\n",
      "34                  Slovakia  2017  3.603364e+04\n",
      "35                  Slovenia  2017  1.425941e+04\n",
      "36                     Spain  2017  2.744272e+05\n",
      "37                    Sweden  2017  4.204989e+04\n",
      "38               Switzerland  2017  3.817174e+04\n",
      "39                    Turkey  2017  4.253296e+05\n",
      "40                   Ukraine  2017  2.232200e+05\n",
      "41            United Kingdom  2017  3.881011e+05\n",
      "42  United States of America  2017  5.270749e+06\n"
     ]
    }
   ],
   "source": [
    "raw_data.columns = ['Country Name','Year','GG Emissions']\n",
    "print(raw_data)"
   ]
  },
  {
   "cell_type": "code",
   "execution_count": 5,
   "metadata": {},
   "outputs": [
    {
     "name": "stdout",
     "output_type": "stream",
     "text": [
      "     Country Name Country Code                            Indicator Name  \\\n",
      "0           Aruba          ABW  Urban population (% of total population)   \n",
      "1     Afghanistan          AFG  Urban population (% of total population)   \n",
      "2          Angola          AGO  Urban population (% of total population)   \n",
      "3         Albania          ALB  Urban population (% of total population)   \n",
      "4         Andorra          AND  Urban population (% of total population)   \n",
      "..            ...          ...                                       ...   \n",
      "259        Kosovo          XKX  Urban population (% of total population)   \n",
      "260   Yemen, Rep.          YEM  Urban population (% of total population)   \n",
      "261  South Africa          ZAF  Urban population (% of total population)   \n",
      "262        Zambia          ZMB  Urban population (% of total population)   \n",
      "263      Zimbabwe          ZWE  Urban population (% of total population)   \n",
      "\n",
      "        Indicator Code    1960    1961    1962    1963    1964    1965  ...  \\\n",
      "0    SP.URB.TOTL.IN.ZS  50.776  50.761  50.746  50.730  50.715  50.700  ...   \n",
      "1    SP.URB.TOTL.IN.ZS   8.401   8.684   8.976   9.276   9.586   9.904  ...   \n",
      "2    SP.URB.TOTL.IN.ZS  10.435  10.798  11.204  11.624  12.058  12.504  ...   \n",
      "3    SP.URB.TOTL.IN.ZS  30.705  30.943  31.015  31.086  31.158  31.230  ...   \n",
      "4    SP.URB.TOTL.IN.ZS  58.450  60.983  63.462  65.872  68.205  70.445  ...   \n",
      "..                 ...     ...     ...     ...     ...     ...     ...  ...   \n",
      "259  SP.URB.TOTL.IN.ZS     NaN     NaN     NaN     NaN     NaN     NaN  ...   \n",
      "260  SP.URB.TOTL.IN.ZS   9.100   9.459   9.831  10.216  10.614  11.026  ...   \n",
      "261  SP.URB.TOTL.IN.ZS  46.619  46.793  46.906  47.020  47.134  47.248  ...   \n",
      "262  SP.URB.TOTL.IN.ZS  18.145  18.951  19.785  20.712  22.015  23.372  ...   \n",
      "263  SP.URB.TOTL.IN.ZS  12.608  12.821  13.082  13.578  14.092  14.620  ...   \n",
      "\n",
      "       2011    2012    2013    2014    2015    2016    2017    2018    2019  \\\n",
      "0    42.940  42.957  42.990  43.041  43.108  43.192  43.293  43.411  43.546   \n",
      "1    23.948  24.160  24.373  24.587  24.803  25.020  25.250  25.495  25.754   \n",
      "2    60.528  61.268  62.002  62.731  63.446  64.149  64.839  65.514  66.177   \n",
      "3    53.247  54.330  55.387  56.423  57.434  58.421  59.383  60.319  61.229   \n",
      "4    88.726  88.631  88.537  88.441  88.345  88.248  88.150  88.062  87.984   \n",
      "..      ...     ...     ...     ...     ...     ...     ...     ...     ...   \n",
      "259     NaN     NaN     NaN     NaN     NaN     NaN     NaN     NaN     NaN   \n",
      "260  32.364  32.958  33.559  34.165  34.777  35.394  36.016  36.642  37.273   \n",
      "261  62.746  63.272  63.793  64.312  64.828  65.341  65.850  66.355  66.856   \n",
      "262  39.851  40.354  40.865  41.382  41.907  42.438  42.976  43.521  44.072   \n",
      "263  33.015  32.834  32.654  32.504  32.385  32.296  32.237  32.209  32.210   \n",
      "\n",
      "     2020  \n",
      "0     NaN  \n",
      "1     NaN  \n",
      "2     NaN  \n",
      "3     NaN  \n",
      "4     NaN  \n",
      "..    ...  \n",
      "259   NaN  \n",
      "260   NaN  \n",
      "261   NaN  \n",
      "262   NaN  \n",
      "263   NaN  \n",
      "\n",
      "[264 rows x 65 columns]\n"
     ]
    }
   ],
   "source": [
    "urban_percent_raw = pd.read_excel(\"C:/Users/VIOLIN/Desktop/Final-Project_Harshini-/Data/Urban population percent.xls\")\n",
    "\n",
    "print(urban_percent_raw)"
   ]
  },
  {
   "cell_type": "code",
   "execution_count": 6,
   "metadata": {},
   "outputs": [
    {
     "name": "stdout",
     "output_type": "stream",
     "text": [
      "     Country Name    2017\n",
      "0           Aruba  43.293\n",
      "1     Afghanistan  25.250\n",
      "2          Angola  64.839\n",
      "3         Albania  59.383\n",
      "4         Andorra  88.150\n",
      "..            ...     ...\n",
      "259        Kosovo     NaN\n",
      "260   Yemen, Rep.  36.016\n",
      "261  South Africa  65.850\n",
      "262        Zambia  42.976\n",
      "263      Zimbabwe  32.237\n",
      "\n",
      "[264 rows x 2 columns]\n"
     ]
    }
   ],
   "source": [
    "urban_percent = urban_percent_raw[['Country Name','2017']]\n",
    "\n",
    "print(urban_percent)\n"
   ]
  },
  {
   "cell_type": "code",
   "execution_count": 7,
   "metadata": {},
   "outputs": [
    {
     "data": {
      "text/plain": [
       "<matplotlib.axes._subplots.AxesSubplot at 0x19591e453a0>"
      ]
     },
     "execution_count": 7,
     "metadata": {},
     "output_type": "execute_result"
    },
    {
     "data": {
      "image/png": "[encoded data removed]",
      "text/plain": [
       "<Figure size 1800x720 with 2 Axes>"
      ]
     },
     "metadata": {
      "needs_background": "light"
     },
     "output_type": "display_data"
    }
   ],
   "source": [
    "import missingno as miss\n",
    "#Checked to see if that dataset was complete\n",
    "miss.matrix(urban_percent)"
   ]
  },
  {
   "cell_type": "code",
   "execution_count": 8,
   "metadata": {},
   "outputs": [
    {
     "data": {
      "text/html": [
       "<div>\n",
       "<style scoped>\n",
       "    .dataframe tbody tr th:only-of-type {\n",
       "        vertical-align: middle;\n",
       "    }\n",
       "\n",
       "    .dataframe tbody tr th {\n",
       "        vertical-align: top;\n",
       "    }\n",
       "\n",
       "    .dataframe thead th {\n",
       "        text-align: right;\n",
       "    }\n",
       "</style>\n",
       "<table border=\"1\" class=\"dataframe\">\n",
       "  <thead>\n",
       "    <tr style=\"text-align: right;\">\n",
       "      <th></th>\n",
       "      <th>Country Name</th>\n",
       "      <th>2017</th>\n",
       "    </tr>\n",
       "  </thead>\n",
       "  <tbody>\n",
       "    <tr>\n",
       "      <th>0</th>\n",
       "      <td>Aruba</td>\n",
       "      <td>43.293</td>\n",
       "    </tr>\n",
       "    <tr>\n",
       "      <th>1</th>\n",
       "      <td>Afghanistan</td>\n",
       "      <td>25.250</td>\n",
       "    </tr>\n",
       "    <tr>\n",
       "      <th>2</th>\n",
       "      <td>Angola</td>\n",
       "      <td>64.839</td>\n",
       "    </tr>\n",
       "    <tr>\n",
       "      <th>3</th>\n",
       "      <td>Albania</td>\n",
       "      <td>59.383</td>\n",
       "    </tr>\n",
       "    <tr>\n",
       "      <th>4</th>\n",
       "      <td>Andorra</td>\n",
       "      <td>88.150</td>\n",
       "    </tr>\n",
       "    <tr>\n",
       "      <th>...</th>\n",
       "      <td>...</td>\n",
       "      <td>...</td>\n",
       "    </tr>\n",
       "    <tr>\n",
       "      <th>259</th>\n",
       "      <td>Kosovo</td>\n",
       "      <td>-999.000</td>\n",
       "    </tr>\n",
       "    <tr>\n",
       "      <th>260</th>\n",
       "      <td>Yemen, Rep.</td>\n",
       "      <td>36.016</td>\n",
       "    </tr>\n",
       "    <tr>\n",
       "      <th>261</th>\n",
       "      <td>South Africa</td>\n",
       "      <td>65.850</td>\n",
       "    </tr>\n",
       "    <tr>\n",
       "      <th>262</th>\n",
       "      <td>Zambia</td>\n",
       "      <td>42.976</td>\n",
       "    </tr>\n",
       "    <tr>\n",
       "      <th>263</th>\n",
       "      <td>Zimbabwe</td>\n",
       "      <td>32.237</td>\n",
       "    </tr>\n",
       "  </tbody>\n",
       "</table>\n",
       "<p>264 rows × 2 columns</p>\n",
       "</div>"
      ],
      "text/plain": [
       "     Country Name     2017\n",
       "0           Aruba   43.293\n",
       "1     Afghanistan   25.250\n",
       "2          Angola   64.839\n",
       "3         Albania   59.383\n",
       "4         Andorra   88.150\n",
       "..            ...      ...\n",
       "259        Kosovo -999.000\n",
       "260   Yemen, Rep.   36.016\n",
       "261  South Africa   65.850\n",
       "262        Zambia   42.976\n",
       "263      Zimbabwe   32.237\n",
       "\n",
       "[264 rows x 2 columns]"
      ]
     },
     "execution_count": 8,
     "metadata": {},
     "output_type": "execute_result"
    }
   ],
   "source": [
    "urban_percent.replace(to_replace = np.nan, value = -999) "
   ]
  },
  {
   "cell_type": "code",
   "execution_count": 9,
   "metadata": {},
   "outputs": [
    {
     "name": "stdout",
     "output_type": "stream",
     "text": [
      "          Country Name  Year  GG Emissions        2017\n",
      "0            Australia  2017  4.170413e+05   85.904000\n",
      "1              Austria  2017  6.997885e+04   58.094000\n",
      "2              Belarus  2017  6.269920e+04   78.134000\n",
      "3              Belgium  2017  9.756357e+04   97.961000\n",
      "4             Bulgaria  2017  4.740163e+04   74.669000\n",
      "5               Canada  2017  5.711389e+05   81.350000\n",
      "6              Croatia  2017  1.871677e+04   56.667000\n",
      "7               Cyprus  2017  7.538492e+03   66.836000\n",
      "8              Denmark  2017  3.628332e+04   87.757000\n",
      "9              Estonia  2017  1.865447e+04   68.717000\n",
      "10      European Union  2017  3.515490e+06   74.306869\n",
      "11             Finland  2017  4.470490e+04   85.325000\n",
      "12              France  2017  3.522848e+05   80.180000\n",
      "13             Germany  2017  7.979664e+05   77.261000\n",
      "14              Greece  2017  7.484484e+04   78.724000\n",
      "15             Hungary  2017  4.964598e+04   71.062000\n",
      "16             Iceland  2017  3.614496e+03   93.773000\n",
      "17             Ireland  2017  3.872759e+04   62.947000\n",
      "18               Italy  2017  3.489914e+05   70.144000\n",
      "19               Japan  2017  1.188122e+06   91.535000\n",
      "20              Latvia  2017  7.235237e+03   68.075000\n",
      "21       Liechtenstein  2017  1.551389e+02   14.315000\n",
      "22           Lithuania  2017  1.362792e+04   67.516000\n",
      "23          Luxembourg  2017  9.243461e+03   90.727000\n",
      "24               Malta  2017  1.608666e+03   94.546000\n",
      "25              Monaco  2017  7.326581e+01  100.000000\n",
      "26         Netherlands  2017  1.644784e+05   91.077000\n",
      "27         New Zealand  2017  3.602373e+04   86.466000\n",
      "28              Norway  2017  4.370223e+04   81.871000\n",
      "29              Poland  2017  3.365568e+05   60.105000\n",
      "30            Portugal  2017  5.465774e+04   64.652000\n",
      "31             Romania  2017  7.499825e+04   53.936000\n",
      "32  Russian Federation  2017  1.647041e+06   74.292000\n",
      "33            Slovenia  2017  1.425941e+04   54.273000\n",
      "34               Spain  2017  2.744272e+05   80.080000\n",
      "35              Sweden  2017  4.204989e+04   87.146000\n",
      "36         Switzerland  2017  3.817174e+04   73.761000\n",
      "37              Turkey  2017  4.253296e+05   74.644000\n",
      "38             Ukraine  2017  2.232200e+05   69.246000\n",
      "39      United Kingdom  2017  3.881011e+05   83.143000\n"
     ]
    }
   ],
   "source": [
    "merged_df = pd.merge(raw_data,urban_percent,on=\"Country Name\")\n",
    "print(merged_df)"
   ]
  },
  {
   "cell_type": "code",
   "execution_count": 10,
   "metadata": {},
   "outputs": [
    {
     "name": "stdout",
     "output_type": "stream",
     "text": [
      "          Country Name  Year  Urban_GG_Emissions        2017\n",
      "0            Australia  2017        3.582551e+07   85.904000\n",
      "1              Austria  2017        4.065351e+06   58.094000\n",
      "2              Belarus  2017        4.898940e+06   78.134000\n",
      "3              Belgium  2017        9.557425e+06   97.961000\n",
      "4             Bulgaria  2017        3.539433e+06   74.669000\n",
      "5               Canada  2017        4.646215e+07   81.350000\n",
      "6              Croatia  2017        1.060623e+06   56.667000\n",
      "7               Cyprus  2017        5.038427e+05   66.836000\n",
      "8              Denmark  2017        3.184115e+06   87.757000\n",
      "9              Estonia  2017        1.281879e+06   68.717000\n",
      "10      European Union  2017        2.612251e+08   74.306869\n",
      "11             Finland  2017        3.814445e+06   85.325000\n",
      "12              France  2017        2.824619e+07   80.180000\n",
      "13             Germany  2017        6.165168e+07   77.261000\n",
      "14              Greece  2017        5.892086e+06   78.724000\n",
      "15             Hungary  2017        3.527943e+06   71.062000\n",
      "16             Iceland  2017        3.389422e+05   93.773000\n",
      "17             Ireland  2017        2.437785e+06   62.947000\n",
      "18               Italy  2017        2.447965e+07   70.144000\n",
      "19               Japan  2017        1.087548e+08   91.535000\n",
      "20              Latvia  2017        4.925388e+05   68.075000\n",
      "21       Liechtenstein  2017        2.220813e+03   14.315000\n",
      "22           Lithuania  2017        9.201026e+05   67.516000\n",
      "23          Luxembourg  2017        8.386315e+05   90.727000\n",
      "24               Malta  2017        1.520929e+05   94.546000\n",
      "25              Monaco  2017        7.326581e+03  100.000000\n",
      "26         Netherlands  2017        1.498020e+07   91.077000\n",
      "27         New Zealand  2017        3.114828e+06   86.466000\n",
      "28              Norway  2017        3.577945e+06   81.871000\n",
      "29              Poland  2017        2.022874e+07   60.105000\n",
      "30            Portugal  2017        3.533732e+06   64.652000\n",
      "31             Romania  2017        4.045106e+06   53.936000\n",
      "32  Russian Federation  2017        1.223620e+08   74.292000\n",
      "33            Slovenia  2017        7.739011e+05   54.273000\n",
      "34               Spain  2017        2.197613e+07   80.080000\n",
      "35              Sweden  2017        3.664479e+06   87.146000\n",
      "36         Switzerland  2017        2.815586e+06   73.761000\n",
      "37              Turkey  2017        3.174830e+07   74.644000\n",
      "38             Ukraine  2017        1.545709e+07   69.246000\n",
      "39      United Kingdom  2017        3.226789e+07   83.143000\n"
     ]
    }
   ],
   "source": [
    "merged_df[\"GG Emissions\"] = merged_df[\"GG Emissions\"] * merged_df[\"2017\"]\n",
    "merged_df.columns = ['Country Name','Year','Urban_GG_Emissions','2017']\n",
    "print(merged_df)\n"
   ]
  },
  {
   "cell_type": "code",
   "execution_count": 16,
   "metadata": {},
   "outputs": [
    {
     "name": "stdout",
     "output_type": "stream",
     "text": [
      "               country  Urban_GG_Emissions\n",
      "0            Australia        3.582551e+07\n",
      "1              Austria        4.065351e+06\n",
      "2              Belarus        4.898940e+06\n",
      "3              Belgium        9.557425e+06\n",
      "4             Bulgaria        3.539433e+06\n",
      "5               Canada        4.646215e+07\n",
      "6              Croatia        1.060623e+06\n",
      "7               Cyprus        5.038427e+05\n",
      "8              Denmark        3.184115e+06\n",
      "9              Estonia        1.281879e+06\n",
      "10      European Union        2.612251e+08\n",
      "11             Finland        3.814445e+06\n",
      "12              France        2.824619e+07\n",
      "13             Germany        6.165168e+07\n",
      "14              Greece        5.892086e+06\n",
      "15             Hungary        3.527943e+06\n",
      "16             Iceland        3.389422e+05\n",
      "17             Ireland        2.437785e+06\n",
      "18               Italy        2.447965e+07\n",
      "19               Japan        1.087548e+08\n",
      "20              Latvia        4.925388e+05\n",
      "21       Liechtenstein        2.220813e+03\n",
      "22           Lithuania        9.201026e+05\n",
      "23          Luxembourg        8.386315e+05\n",
      "24               Malta        1.520929e+05\n",
      "25              Monaco        7.326581e+03\n",
      "26         Netherlands        1.498020e+07\n",
      "27         New Zealand        3.114828e+06\n",
      "28              Norway        3.577945e+06\n",
      "29              Poland        2.022874e+07\n",
      "30            Portugal        3.533732e+06\n",
      "31             Romania        4.045106e+06\n",
      "32  Russian Federation        1.223620e+08\n",
      "33            Slovenia        7.739011e+05\n",
      "34               Spain        2.197613e+07\n",
      "35              Sweden        3.664479e+06\n",
      "36         Switzerland        2.815586e+06\n",
      "37              Turkey        3.174830e+07\n",
      "38             Ukraine        1.545709e+07\n",
      "39      United Kingdom        3.226789e+07\n"
     ]
    }
   ],
   "source": [
    "urban_country_emissions = merged_df[['Country Name','Urban_GG_Emissions']]\n",
    "urban_country_emissions.columns = ['country','Urban_GG_Emissions']\n",
    "urban_country_emissions['Urban_GG_Emissions'].round(decimals=0)\n",
    "print(urban_country_emissions)"
   ]
  },
  {
   "cell_type": "code",
   "execution_count": 15,
   "metadata": {},
   "outputs": [
    {
     "data": {
      "text/plain": [
       "country                object\n",
       "Urban_GG_Emissions    float64\n",
       "dtype: object"
      ]
     },
     "execution_count": 15,
     "metadata": {},
     "output_type": "execute_result"
    }
   ],
   "source": [
    "urban_country_emissions.dtypes"
   ]
  },
  {
   "cell_type": "code",
   "execution_count": 17,
   "metadata": {},
   "outputs": [
    {
     "name": "stderr",
     "output_type": "stream",
     "text": [
      "<ipython-input-17-54d66ba4e66a>:1: SettingWithCopyWarning: \n",
      "A value is trying to be set on a copy of a slice from a DataFrame.\n",
      "Try using .loc[row_indexer,col_indexer] = value instead\n",
      "\n",
      "See the caveats in the documentation: https://pandas.pydata.org/pandas-docs/stable/user_guide/indexing.html#returning-a-view-versus-a-copy\n",
      "  urban_country_emissions['Urban_GG_Emissions']= urban_country_emissions['Urban_GG_Emissions'].astype(int)\n"
     ]
    }
   ],
   "source": [
    "urban_country_emissions['Urban_GG_Emissions']= urban_country_emissions['Urban_GG_Emissions'].astype(int)"
   ]
  },
  {
   "cell_type": "code",
   "execution_count": 18,
   "metadata": {},
   "outputs": [
    {
     "data": {
      "text/plain": [
       "country               object\n",
       "Urban_GG_Emissions     int32\n",
       "dtype: object"
      ]
     },
     "execution_count": 18,
     "metadata": {},
     "output_type": "execute_result"
    }
   ],
   "source": [
    "urban_country_emissions.dtypes"
   ]
  },
  {
   "cell_type": "code",
   "execution_count": null,
   "metadata": {},
   "outputs": [],
   "source": []
  },
  {
   "cell_type": "code",
   "execution_count": 20,
   "metadata": {},
   "outputs": [],
   "source": [
    "##creating a output csv file\n",
    "urban_country_emissions.to_csv(\"C:/Users/VIOLIN/Desktop/Final-Project_Harshini-/Project Part -1/Processed data - part 1/SP1_output.csv\", sep=',',index=False)"
   ]
  },
  {
   "cell_type": "code",
   "execution_count": null,
   "metadata": {},
   "outputs": [],
   "source": []
  }
 ],
 "metadata": {
  "kernelspec": {
   "display_name": "Python 3",
   "language": "python",
   "name": "python3"
  },
  "language_info": {
   "codemirror_mode": {
    "name": "ipython",
    "version": 3
   },
   "file_extension": ".py",
   "mimetype": "text/x-python",
   "name": "python",
   "nbconvert_exporter": "python",
   "pygments_lexer": "ipython3",
   "version": "3.8.3"
  }
 },
 "nbformat": 4,
 "nbformat_minor": 4
}
