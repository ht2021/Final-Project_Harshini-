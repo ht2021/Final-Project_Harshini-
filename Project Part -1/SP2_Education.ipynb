{
 "cells": [
  {
   "cell_type": "markdown",
   "metadata": {},
   "source": [
    "## Sustainability parameter 1 - Environmental Protection : Level of Carbon footprint, Air Pollution, Energy efficiency"
   ]
  },
  {
   "cell_type": "code",
   "execution_count": null,
   "metadata": {},
   "outputs": [],
   "source": [
    "## Webscrapping countrywise greenhouse gas emissions data for 2017!\n",
    "\n",
    "import requests\n",
    "from pprint import pprint\n",
    "URL = 'http://data.un.org/Data.aspx?d=GHG&f=seriesID%3aCO2#GHG'\n",
    "page = requests.get(URL)\n",
    "\n",
    "pprint(page)\n"
   ]
  },
  {
   "cell_type": "code",
   "execution_count": null,
   "metadata": {},
   "outputs": [],
   "source": [
    "from bs4 import BeautifulSoup\n",
    "soup = BeautifulSoup(page.content, 'html.parser')\n"
   ]
  },
  {
   "cell_type": "code",
   "execution_count": null,
   "metadata": {},
   "outputs": [],
   "source": [
    "results1 = soup.find(id='Country or Area')\n",
    "results2 = soup.find(id='Year')\n",
    "results3 = soup.find(id='Value')\n",
    "\n",
    "emissions = pd.DataFrame(column)\n"
   ]
  },
  {
   "cell_type": "code",
   "execution_count": null,
   "metadata": {},
   "outputs": [],
   "source": []
  }
 ],
 "metadata": {
  "kernelspec": {
   "display_name": "Python 3",
   "language": "python",
   "name": "python3"
  },
  "language_info": {
   "codemirror_mode": {
    "name": "ipython",
    "version": 3
   },
   "file_extension": ".py",
   "mimetype": "text/x-python",
   "name": "python",
   "nbconvert_exporter": "python",
   "pygments_lexer": "ipython3",
   "version": "3.8.3"
  }
 },
 "nbformat": 4,
 "nbformat_minor": 4
}
