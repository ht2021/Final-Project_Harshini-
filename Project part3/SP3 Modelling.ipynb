{
 "cells": [
  {
   "cell_type": "code",
   "execution_count": 2,
   "metadata": {},
   "outputs": [],
   "source": [
    "## Importing required packages\n",
    "import pandas as pd \n",
    "import numpy as np \n",
    "import missingno as miss\n",
    "import matplotlib.pyplot as plt\n",
    "import seaborn as sns\n",
    "from plotnine import *\n",
    "\n",
    "# For pre-processing data \n",
    "from sklearn import preprocessing as pp \n",
    "from sklearn.compose import ColumnTransformer \n",
    "\n",
    "# For splits and CV\n",
    "from sklearn.model_selection import train_test_split\n",
    "from sklearn.model_selection import KFold # Cross validation \n",
    "from sklearn.model_selection import cross_validate # Cross validation \n",
    "from sklearn.model_selection import GridSearchCV # Cross validation + param. tuning.\n",
    "\n",
    "# Machine learning methods \n",
    "from sklearn.linear_model import LinearRegression as LM\n",
    "from sklearn.naive_bayes import GaussianNB as NB\n",
    "from sklearn.neighbors import KNeighborsClassifier as KNN\n",
    "from sklearn.tree import DecisionTreeClassifier as DT\n",
    "from sklearn.tree import DecisionTreeRegressor as DT_reg\n",
    "from sklearn.ensemble import RandomForestClassifier as RF\n",
    "from sklearn.ensemble import BaggingRegressor as Bag\n",
    "from sklearn import tree # For plotting the decision tree rules\n",
    "\n",
    "# For evaluating our model's performance\n",
    "import sklearn.metrics as m\n",
    "\n",
    "\n",
    "# For evaluating our model's performance\n",
    "import sklearn.metrics as m\n",
    "\n",
    "# Pipeline to combine modeling elements\n",
    "from sklearn.pipeline import Pipeline\n",
    "\n",
    "# Misc\n",
    "import warnings\n",
    "warnings.filterwarnings(\"ignore\")"
   ]
  },
  {
   "cell_type": "code",
   "execution_count": 3,
   "metadata": {},
   "outputs": [],
   "source": [
    "SP3 = pd.read_csv(\"C:/Users/VIOLIN/Desktop/Final-Project_Harshini-/Project Part -1/Processed data - part 1/SP3_output.csv\")\n",
    "IV_data = pd.read_csv(\"C:/Users/VIOLIN/Desktop/Final-Project_Harshini-/Project Part -2/Processed data part2/IV_data.csv\")"
   ]
  },
  {
   "cell_type": "code",
   "execution_count": 4,
   "metadata": {},
   "outputs": [
    {
     "data": {
      "text/html": [
       "<div>\n",
       "<style scoped>\n",
       "    .dataframe tbody tr th:only-of-type {\n",
       "        vertical-align: middle;\n",
       "    }\n",
       "\n",
       "    .dataframe tbody tr th {\n",
       "        vertical-align: top;\n",
       "    }\n",
       "\n",
       "    .dataframe thead th {\n",
       "        text-align: right;\n",
       "    }\n",
       "</style>\n",
       "<table border=\"1\" class=\"dataframe\">\n",
       "  <thead>\n",
       "    <tr style=\"text-align: right;\">\n",
       "      <th></th>\n",
       "      <th>country</th>\n",
       "      <th>msw_year</th>\n",
       "    </tr>\n",
       "  </thead>\n",
       "  <tbody>\n",
       "    <tr>\n",
       "      <th>0</th>\n",
       "      <td>Afghanistan</td>\n",
       "      <td>2313148.55</td>\n",
       "    </tr>\n",
       "    <tr>\n",
       "      <th>1</th>\n",
       "      <td>Albania</td>\n",
       "      <td>58955.00</td>\n",
       "    </tr>\n",
       "    <tr>\n",
       "      <th>2</th>\n",
       "      <td>Algeria</td>\n",
       "      <td>1397874.00</td>\n",
       "    </tr>\n",
       "    <tr>\n",
       "      <th>3</th>\n",
       "      <td>American Samoa</td>\n",
       "      <td>0.00</td>\n",
       "    </tr>\n",
       "    <tr>\n",
       "      <th>4</th>\n",
       "      <td>Angola</td>\n",
       "      <td>1316336.00</td>\n",
       "    </tr>\n",
       "  </tbody>\n",
       "</table>\n",
       "</div>"
      ],
      "text/plain": [
       "          country    msw_year\n",
       "0     Afghanistan  2313148.55\n",
       "1         Albania    58955.00\n",
       "2         Algeria  1397874.00\n",
       "3  American Samoa        0.00\n",
       "4          Angola  1316336.00"
      ]
     },
     "execution_count": 4,
     "metadata": {},
     "output_type": "execute_result"
    }
   ],
   "source": [
    "SP3.head()"
   ]
  },
  {
   "cell_type": "code",
   "execution_count": 5,
   "metadata": {},
   "outputs": [
    {
     "data": {
      "text/plain": [
       "(164, 2)"
      ]
     },
     "execution_count": 5,
     "metadata": {},
     "output_type": "execute_result"
    }
   ],
   "source": [
    "SP3.shape"
   ]
  },
  {
   "cell_type": "code",
   "execution_count": 6,
   "metadata": {},
   "outputs": [
    {
     "data": {
      "text/html": [
       "<div>\n",
       "<style scoped>\n",
       "    .dataframe tbody tr th:only-of-type {\n",
       "        vertical-align: middle;\n",
       "    }\n",
       "\n",
       "    .dataframe tbody tr th {\n",
       "        vertical-align: top;\n",
       "    }\n",
       "\n",
       "    .dataframe thead th {\n",
       "        text-align: right;\n",
       "    }\n",
       "</style>\n",
       "<table border=\"1\" class=\"dataframe\">\n",
       "  <thead>\n",
       "    <tr style=\"text-align: right;\">\n",
       "      <th></th>\n",
       "      <th>country</th>\n",
       "      <th>city_ascii</th>\n",
       "      <th>population</th>\n",
       "      <th>2019 GDP per capita</th>\n",
       "      <th>1960 urban population%</th>\n",
       "      <th>2019 urban population%</th>\n",
       "      <th>2014 usable water per capita</th>\n",
       "      <th>2019 FDI data</th>\n",
       "    </tr>\n",
       "  </thead>\n",
       "  <tbody>\n",
       "    <tr>\n",
       "      <th>0</th>\n",
       "      <td>Afghanistan</td>\n",
       "      <td>39</td>\n",
       "      <td>7474525.0</td>\n",
       "      <td>502.115487</td>\n",
       "      <td>8.401</td>\n",
       "      <td>25.754</td>\n",
       "      <td>1412.912141</td>\n",
       "      <td>2.340455e+07</td>\n",
       "    </tr>\n",
       "    <tr>\n",
       "      <th>1</th>\n",
       "      <td>Albania</td>\n",
       "      <td>50</td>\n",
       "      <td>1691769.0</td>\n",
       "      <td>5352.857411</td>\n",
       "      <td>30.705</td>\n",
       "      <td>61.229</td>\n",
       "      <td>9310.845162</td>\n",
       "      <td>1.201022e+09</td>\n",
       "    </tr>\n",
       "    <tr>\n",
       "      <th>2</th>\n",
       "      <td>Algeria</td>\n",
       "      <td>56</td>\n",
       "      <td>10827998.0</td>\n",
       "      <td>3948.343279</td>\n",
       "      <td>30.510</td>\n",
       "      <td>73.189</td>\n",
       "      <td>289.027090</td>\n",
       "      <td>1.381890e+09</td>\n",
       "    </tr>\n",
       "    <tr>\n",
       "      <th>3</th>\n",
       "      <td>American Samoa</td>\n",
       "      <td>1</td>\n",
       "      <td>12576.0</td>\n",
       "      <td>NaN</td>\n",
       "      <td>66.211</td>\n",
       "      <td>87.147</td>\n",
       "      <td>NaN</td>\n",
       "      <td>NaN</td>\n",
       "    </tr>\n",
       "    <tr>\n",
       "      <th>4</th>\n",
       "      <td>Andorra</td>\n",
       "      <td>1</td>\n",
       "      <td>22151.0</td>\n",
       "      <td>40886.391160</td>\n",
       "      <td>58.450</td>\n",
       "      <td>87.984</td>\n",
       "      <td>3984.194514</td>\n",
       "      <td>NaN</td>\n",
       "    </tr>\n",
       "  </tbody>\n",
       "</table>\n",
       "</div>"
      ],
      "text/plain": [
       "          country  city_ascii  population  2019 GDP per capita  \\\n",
       "0     Afghanistan          39   7474525.0           502.115487   \n",
       "1         Albania          50   1691769.0          5352.857411   \n",
       "2         Algeria          56  10827998.0          3948.343279   \n",
       "3  American Samoa           1     12576.0                  NaN   \n",
       "4         Andorra           1     22151.0         40886.391160   \n",
       "\n",
       "   1960 urban population%  2019 urban population%  \\\n",
       "0                   8.401                  25.754   \n",
       "1                  30.705                  61.229   \n",
       "2                  30.510                  73.189   \n",
       "3                  66.211                  87.147   \n",
       "4                  58.450                  87.984   \n",
       "\n",
       "   2014 usable water per capita  2019 FDI data  \n",
       "0                   1412.912141   2.340455e+07  \n",
       "1                   9310.845162   1.201022e+09  \n",
       "2                    289.027090   1.381890e+09  \n",
       "3                           NaN            NaN  \n",
       "4                   3984.194514            NaN  "
      ]
     },
     "execution_count": 6,
     "metadata": {},
     "output_type": "execute_result"
    }
   ],
   "source": [
    "IV_data.head()"
   ]
  },
  {
   "cell_type": "code",
   "execution_count": 7,
   "metadata": {},
   "outputs": [
    {
     "data": {
      "text/plain": [
       "(177, 8)"
      ]
     },
     "execution_count": 7,
     "metadata": {},
     "output_type": "execute_result"
    }
   ],
   "source": [
    "IV_data.shape"
   ]
  },
  {
   "cell_type": "code",
   "execution_count": 8,
   "metadata": {},
   "outputs": [],
   "source": [
    "SP3_model_data = pd.merge(SP3,IV_data,on = \"country\", how = \"inner\")"
   ]
  },
  {
   "cell_type": "code",
   "execution_count": 9,
   "metadata": {},
   "outputs": [
    {
     "data": {
      "text/html": [
       "<div>\n",
       "<style scoped>\n",
       "    .dataframe tbody tr th:only-of-type {\n",
       "        vertical-align: middle;\n",
       "    }\n",
       "\n",
       "    .dataframe tbody tr th {\n",
       "        vertical-align: top;\n",
       "    }\n",
       "\n",
       "    .dataframe thead th {\n",
       "        text-align: right;\n",
       "    }\n",
       "</style>\n",
       "<table border=\"1\" class=\"dataframe\">\n",
       "  <thead>\n",
       "    <tr style=\"text-align: right;\">\n",
       "      <th></th>\n",
       "      <th>country</th>\n",
       "      <th>msw_year</th>\n",
       "      <th>city_ascii</th>\n",
       "      <th>population</th>\n",
       "      <th>2019 GDP per capita</th>\n",
       "      <th>1960 urban population%</th>\n",
       "      <th>2019 urban population%</th>\n",
       "      <th>2014 usable water per capita</th>\n",
       "      <th>2019 FDI data</th>\n",
       "    </tr>\n",
       "  </thead>\n",
       "  <tbody>\n",
       "    <tr>\n",
       "      <th>0</th>\n",
       "      <td>Afghanistan</td>\n",
       "      <td>2313148.55</td>\n",
       "      <td>39</td>\n",
       "      <td>7474525.0</td>\n",
       "      <td>502.115487</td>\n",
       "      <td>8.401</td>\n",
       "      <td>25.754</td>\n",
       "      <td>1412.912141</td>\n",
       "      <td>2.340455e+07</td>\n",
       "    </tr>\n",
       "    <tr>\n",
       "      <th>1</th>\n",
       "      <td>Albania</td>\n",
       "      <td>58955.00</td>\n",
       "      <td>50</td>\n",
       "      <td>1691769.0</td>\n",
       "      <td>5352.857411</td>\n",
       "      <td>30.705</td>\n",
       "      <td>61.229</td>\n",
       "      <td>9310.845162</td>\n",
       "      <td>1.201022e+09</td>\n",
       "    </tr>\n",
       "    <tr>\n",
       "      <th>2</th>\n",
       "      <td>Algeria</td>\n",
       "      <td>1397874.00</td>\n",
       "      <td>56</td>\n",
       "      <td>10827998.0</td>\n",
       "      <td>3948.343279</td>\n",
       "      <td>30.510</td>\n",
       "      <td>73.189</td>\n",
       "      <td>289.027090</td>\n",
       "      <td>1.381890e+09</td>\n",
       "    </tr>\n",
       "    <tr>\n",
       "      <th>3</th>\n",
       "      <td>American Samoa</td>\n",
       "      <td>0.00</td>\n",
       "      <td>1</td>\n",
       "      <td>12576.0</td>\n",
       "      <td>NaN</td>\n",
       "      <td>66.211</td>\n",
       "      <td>87.147</td>\n",
       "      <td>NaN</td>\n",
       "      <td>NaN</td>\n",
       "    </tr>\n",
       "    <tr>\n",
       "      <th>4</th>\n",
       "      <td>Angola</td>\n",
       "      <td>1316336.00</td>\n",
       "      <td>33</td>\n",
       "      <td>11596932.0</td>\n",
       "      <td>2973.591160</td>\n",
       "      <td>10.435</td>\n",
       "      <td>66.177</td>\n",
       "      <td>5493.326925</td>\n",
       "      <td>-4.098479e+09</td>\n",
       "    </tr>\n",
       "  </tbody>\n",
       "</table>\n",
       "</div>"
      ],
      "text/plain": [
       "          country    msw_year  city_ascii  population  2019 GDP per capita  \\\n",
       "0     Afghanistan  2313148.55          39   7474525.0           502.115487   \n",
       "1         Albania    58955.00          50   1691769.0          5352.857411   \n",
       "2         Algeria  1397874.00          56  10827998.0          3948.343279   \n",
       "3  American Samoa        0.00           1     12576.0                  NaN   \n",
       "4          Angola  1316336.00          33  11596932.0          2973.591160   \n",
       "\n",
       "   1960 urban population%  2019 urban population%  \\\n",
       "0                   8.401                  25.754   \n",
       "1                  30.705                  61.229   \n",
       "2                  30.510                  73.189   \n",
       "3                  66.211                  87.147   \n",
       "4                  10.435                  66.177   \n",
       "\n",
       "   2014 usable water per capita  2019 FDI data  \n",
       "0                   1412.912141   2.340455e+07  \n",
       "1                   9310.845162   1.201022e+09  \n",
       "2                    289.027090   1.381890e+09  \n",
       "3                           NaN            NaN  \n",
       "4                   5493.326925  -4.098479e+09  "
      ]
     },
     "execution_count": 9,
     "metadata": {},
     "output_type": "execute_result"
    }
   ],
   "source": [
    "SP3_model_data.head()"
   ]
  },
  {
   "cell_type": "code",
   "execution_count": 10,
   "metadata": {},
   "outputs": [
    {
     "data": {
      "text/plain": [
       "(143, 9)"
      ]
     },
     "execution_count": 10,
     "metadata": {},
     "output_type": "execute_result"
    }
   ],
   "source": [
    "SP3_model_data.shape"
   ]
  },
  {
   "cell_type": "code",
   "execution_count": 11,
   "metadata": {},
   "outputs": [
    {
     "data": {
      "text/plain": [
       "country                         False\n",
       "msw_year                        False\n",
       "city_ascii                      False\n",
       "population                      False\n",
       "2019 GDP per capita              True\n",
       "1960 urban population%           True\n",
       "2019 urban population%           True\n",
       "2014 usable water per capita     True\n",
       "2019 FDI data                    True\n",
       "dtype: bool"
      ]
     },
     "execution_count": 11,
     "metadata": {},
     "output_type": "execute_result"
    }
   ],
   "source": [
    "## Checking for missing values\n",
    "# Checking any Missing Values\n",
    "SP3_model_data.isnull().any()"
   ]
  },
  {
   "cell_type": "code",
   "execution_count": 12,
   "metadata": {},
   "outputs": [
    {
     "data": {
      "text/plain": [
       "country                         0\n",
       "msw_year                        0\n",
       "city_ascii                      0\n",
       "population                      0\n",
       "2019 GDP per capita             9\n",
       "1960 urban population%          2\n",
       "2019 urban population%          1\n",
       "2014 usable water per capita    9\n",
       "2019 FDI data                   3\n",
       "dtype: int64"
      ]
     },
     "execution_count": 12,
     "metadata": {},
     "output_type": "execute_result"
    }
   ],
   "source": [
    " #checking how much invalid data exists\n",
    "    # to determine if data is valid\n",
    "SP3_model_data.isnull().sum()"
   ]
  },
  {
   "cell_type": "code",
   "execution_count": 14,
   "metadata": {},
   "outputs": [
    {
     "data": {
      "text/plain": [
       "<matplotlib.axes._subplots.AxesSubplot at 0x21854fda250>"
      ]
     },
     "execution_count": 14,
     "metadata": {},
     "output_type": "execute_result"
    },
    {
     "data": {
      "image/png": "[encoded data removed]",
      "text/plain": [
       "<Figure size 1800x720 with 2 Axes>"
      ]
     },
     "metadata": {
      "needs_background": "light"
     },
     "output_type": "display_data"
    }
   ],
   "source": [
    "#Visually Checked to see the missing values\n",
    "miss.matrix(SP3_model_data)"
   ]
  },
  {
   "cell_type": "code",
   "execution_count": 15,
   "metadata": {},
   "outputs": [
    {
     "name": "stdout",
     "output_type": "stream",
     "text": [
      "         country    msw_year  city_ascii  population  2019 GDP per capita  \\\n",
      "0    Afghanistan  2313148.55          39   7474525.0           502.115487   \n",
      "1        Albania    58955.00          50   1691769.0          5352.857411   \n",
      "2        Algeria  1397874.00          56  10827998.0          3948.343279   \n",
      "4         Angola  1316336.00          33  11596932.0          2973.591160   \n",
      "5      Argentina  3459470.00         236  36172782.0         10006.148970   \n",
      "..           ...         ...         ...         ...                  ...   \n",
      "138   Uzbekistan   500000.00          55   8086374.0          1724.841134   \n",
      "139      Vanuatu    27000.00           2     64834.0          3058.065675   \n",
      "140      Vietnam  4909250.00          65  37934404.0          2715.276036   \n",
      "141       Zambia   615979.40          34   4743400.0          1291.343357   \n",
      "142     Zimbabwe   437146.50          24   3659454.0          1463.985910   \n",
      "\n",
      "     1960 urban population%  2019 urban population%  \\\n",
      "0                     8.401                  25.754   \n",
      "1                    30.705                  61.229   \n",
      "2                    30.510                  73.189   \n",
      "4                    10.435                  66.177   \n",
      "5                    73.611                  91.991   \n",
      "..                      ...                     ...   \n",
      "138                  33.978                  50.433   \n",
      "139                  10.404                  25.394   \n",
      "140                  14.700                  36.628   \n",
      "141                  18.145                  44.072   \n",
      "142                  12.608                  32.210   \n",
      "\n",
      "     2014 usable water per capita  2019 FDI data  \n",
      "0                     1412.912141   2.340455e+07  \n",
      "1                     9310.845162   1.201022e+09  \n",
      "2                      289.027090   1.381890e+09  \n",
      "4                     5493.326925  -4.098479e+09  \n",
      "5                     6843.295562   6.663062e+09  \n",
      "..                            ...            ...  \n",
      "138                    531.249086   2.314621e+09  \n",
      "139                  37894.864490   4.100000e+07  \n",
      "140                   3918.678374   1.612000e+10  \n",
      "141                   5207.875737   5.479679e+08  \n",
      "142                    902.354298   2.800000e+08  \n",
      "\n",
      "[127 rows x 9 columns]\n"
     ]
    }
   ],
   "source": [
    "## Let us work on the missing values\n",
    "SP3_model = SP3_model_data.dropna(axis='rows')\n",
    "print(SP3_model)"
   ]
  },
  {
   "cell_type": "code",
   "execution_count": 16,
   "metadata": {},
   "outputs": [
    {
     "data": {
      "text/plain": [
       "country                          object\n",
       "msw_year                        float64\n",
       "city_ascii                        int64\n",
       "population                      float64\n",
       "2019 GDP per capita             float64\n",
       "1960 urban population%          float64\n",
       "2019 urban population%          float64\n",
       "2014 usable water per capita    float64\n",
       "2019 FDI data                   float64\n",
       "dtype: object"
      ]
     },
     "execution_count": 16,
     "metadata": {},
     "output_type": "execute_result"
    }
   ],
   "source": [
    "SP3_model.dtypes"
   ]
  },
  {
   "cell_type": "code",
   "execution_count": 19,
   "metadata": {},
   "outputs": [
    {
     "data": {
      "image/png": "[encoded data removed]",
      "text/plain": [
       "<Figure size 1440x1080 with 9 Axes>"
      ]
     },
     "metadata": {
      "needs_background": "light"
     },
     "output_type": "display_data"
    }
   ],
   "source": [
    "num_bins = 10\n",
    "\n",
    "SP3_model.hist(bins = num_bins, figsize=(20,15),color = 'orange')\n",
    "plt.savefig(\"HistogramPlots\")\n",
    "plt.show()"
   ]
  },
  {
   "cell_type": "code",
   "execution_count": 20,
   "metadata": {},
   "outputs": [
    {
     "data": {
      "text/plain": [
       "<matplotlib.axes._subplots.AxesSubplot at 0x21857ca3520>"
      ]
     },
     "execution_count": 20,
     "metadata": {},
     "output_type": "execute_result"
    },
    {
     "data": {
      "image/png": "[encoded data removed]",
      "text/plain": [
       "<Figure size 432x288 with 2 Axes>"
      ]
     },
     "metadata": {
      "needs_background": "light"
     },
     "output_type": "display_data"
    }
   ],
   "source": [
    "# Correlation between all the Parameters  \n",
    "# if it is positive, the two variables tend to be high or low together\n",
    "# If it is negative, the two variables tend to be opposite of each other\n",
    "corr = SP3_model.corr()\n",
    "# Correlation Plot\n",
    "sns.heatmap(corr)"
   ]
  },
  {
   "cell_type": "code",
   "execution_count": 22,
   "metadata": {},
   "outputs": [
    {
     "name": "stdout",
     "output_type": "stream",
     "text": [
      "msw_year                        1.000000\n",
      "population                      0.447467\n",
      "2019 FDI data                   0.279829\n",
      "city_ascii                      0.141694\n",
      "2019 urban population%          0.043827\n",
      "1960 urban population%          0.017792\n",
      "2019 GDP per capita            -0.048147\n",
      "2014 usable water per capita   -0.088730\n",
      "Name: msw_year, dtype: float64 \n",
      "\n"
     ]
    }
   ],
   "source": [
    "# Correlation Values of all the Features with respect to Target Variable \n",
    "## Top Values\n",
    "print (corr['msw_year'].sort_values(ascending=False)[:10], '\\n')"
   ]
  },
  {
   "cell_type": "code",
   "execution_count": 24,
   "metadata": {},
   "outputs": [],
   "source": [
    "y = SP3_model[['msw_year']]\n",
    "X = SP3_model.drop(columns=['msw_year','country'])\n",
    "train_X, test_X, train_y, test_y = train_test_split(X,y,test_size = .25,random_state=123)"
   ]
  },
  {
   "cell_type": "code",
   "execution_count": 25,
   "metadata": {},
   "outputs": [
    {
     "name": "stdout",
     "output_type": "stream",
     "text": [
      "0.7480314960629921\n",
      "0.25196850393700787\n"
     ]
    }
   ],
   "source": [
    "print(train_X.shape[0]/SP3_model.shape[0])\n",
    "print(test_X.shape[0]/SP3_model.shape[0])"
   ]
  },
  {
   "cell_type": "code",
   "execution_count": 26,
   "metadata": {},
   "outputs": [],
   "source": [
    "# Let's scale the data \n",
    "scaler = pp.MinMaxScaler()\n",
    "col_names = list(train_X)\n",
    "train_X = scaler.fit_transform(train_X)"
   ]
  },
  {
   "cell_type": "code",
   "execution_count": 27,
   "metadata": {},
   "outputs": [
    {
     "data": {
      "text/html": [
       "<div>\n",
       "<style scoped>\n",
       "    .dataframe tbody tr th:only-of-type {\n",
       "        vertical-align: middle;\n",
       "    }\n",
       "\n",
       "    .dataframe tbody tr th {\n",
       "        vertical-align: top;\n",
       "    }\n",
       "\n",
       "    .dataframe thead th {\n",
       "        text-align: right;\n",
       "    }\n",
       "</style>\n",
       "<table border=\"1\" class=\"dataframe\">\n",
       "  <thead>\n",
       "    <tr style=\"text-align: right;\">\n",
       "      <th></th>\n",
       "      <th>city_ascii</th>\n",
       "      <th>population</th>\n",
       "      <th>2019 GDP per capita</th>\n",
       "      <th>1960 urban population%</th>\n",
       "      <th>2019 urban population%</th>\n",
       "      <th>2014 usable water per capita</th>\n",
       "      <th>2019 FDI data</th>\n",
       "    </tr>\n",
       "  </thead>\n",
       "  <tbody>\n",
       "    <tr>\n",
       "      <th>0</th>\n",
       "      <td>0.080340</td>\n",
       "      <td>0.027115</td>\n",
       "      <td>0.561998</td>\n",
       "      <td>0.741113</td>\n",
       "      <td>0.793968</td>\n",
       "      <td>0.797876</td>\n",
       "      <td>0.237226</td>\n",
       "    </tr>\n",
       "    <tr>\n",
       "      <th>1</th>\n",
       "      <td>0.000386</td>\n",
       "      <td>0.000169</td>\n",
       "      <td>0.284376</td>\n",
       "      <td>0.887811</td>\n",
       "      <td>0.886034</td>\n",
       "      <td>0.000000</td>\n",
       "      <td>0.119456</td>\n",
       "    </tr>\n",
       "    <tr>\n",
       "      <th>2</th>\n",
       "      <td>0.000515</td>\n",
       "      <td>0.001007</td>\n",
       "      <td>0.002976</td>\n",
       "      <td>0.169003</td>\n",
       "      <td>0.340175</td>\n",
       "      <td>0.226189</td>\n",
       "      <td>0.118014</td>\n",
       "    </tr>\n",
       "    <tr>\n",
       "      <th>3</th>\n",
       "      <td>0.000000</td>\n",
       "      <td>0.000030</td>\n",
       "      <td>0.128826</td>\n",
       "      <td>0.100638</td>\n",
       "      <td>0.314040</td>\n",
       "      <td>0.000655</td>\n",
       "      <td>0.119329</td>\n",
       "    </tr>\n",
       "    <tr>\n",
       "      <th>4</th>\n",
       "      <td>0.005021</td>\n",
       "      <td>0.005088</td>\n",
       "      <td>0.007295</td>\n",
       "      <td>0.048195</td>\n",
       "      <td>0.092799</td>\n",
       "      <td>0.012309</td>\n",
       "      <td>0.123409</td>\n",
       "    </tr>\n",
       "    <tr>\n",
       "      <th>...</th>\n",
       "      <td>...</td>\n",
       "      <td>...</td>\n",
       "      <td>...</td>\n",
       "      <td>...</td>\n",
       "      <td>...</td>\n",
       "      <td>...</td>\n",
       "      <td>...</td>\n",
       "    </tr>\n",
       "    <tr>\n",
       "      <th>90</th>\n",
       "      <td>0.001931</td>\n",
       "      <td>0.001048</td>\n",
       "      <td>0.006612</td>\n",
       "      <td>0.005786</td>\n",
       "      <td>0.047278</td>\n",
       "      <td>0.008474</td>\n",
       "      <td>0.118146</td>\n",
       "    </tr>\n",
       "    <tr>\n",
       "      <th>91</th>\n",
       "      <td>0.012360</td>\n",
       "      <td>0.015251</td>\n",
       "      <td>0.082176</td>\n",
       "      <td>0.494938</td>\n",
       "      <td>0.754602</td>\n",
       "      <td>0.541036</td>\n",
       "      <td>0.139418</td>\n",
       "    </tr>\n",
       "    <tr>\n",
       "      <th>92</th>\n",
       "      <td>0.001545</td>\n",
       "      <td>0.000855</td>\n",
       "      <td>0.004413</td>\n",
       "      <td>0.183165</td>\n",
       "      <td>0.446426</td>\n",
       "      <td>0.455128</td>\n",
       "      <td>0.117437</td>\n",
       "    </tr>\n",
       "    <tr>\n",
       "      <th>93</th>\n",
       "      <td>0.001931</td>\n",
       "      <td>0.001026</td>\n",
       "      <td>0.007458</td>\n",
       "      <td>0.343992</td>\n",
       "      <td>0.163595</td>\n",
       "      <td>0.076260</td>\n",
       "      <td>0.117626</td>\n",
       "    </tr>\n",
       "    <tr>\n",
       "      <th>94</th>\n",
       "      <td>0.002961</td>\n",
       "      <td>0.002570</td>\n",
       "      <td>0.014716</td>\n",
       "      <td>0.116515</td>\n",
       "      <td>0.220624</td>\n",
       "      <td>0.008923</td>\n",
       "      <td>0.117794</td>\n",
       "    </tr>\n",
       "  </tbody>\n",
       "</table>\n",
       "<p>95 rows × 7 columns</p>\n",
       "</div>"
      ],
      "text/plain": [
       "    city_ascii  population  2019 GDP per capita  1960 urban population%  \\\n",
       "0     0.080340    0.027115             0.561998                0.741113   \n",
       "1     0.000386    0.000169             0.284376                0.887811   \n",
       "2     0.000515    0.001007             0.002976                0.169003   \n",
       "3     0.000000    0.000030             0.128826                0.100638   \n",
       "4     0.005021    0.005088             0.007295                0.048195   \n",
       "..         ...         ...                  ...                     ...   \n",
       "90    0.001931    0.001048             0.006612                0.005786   \n",
       "91    0.012360    0.015251             0.082176                0.494938   \n",
       "92    0.001545    0.000855             0.004413                0.183165   \n",
       "93    0.001931    0.001026             0.007458                0.343992   \n",
       "94    0.002961    0.002570             0.014716                0.116515   \n",
       "\n",
       "    2019 urban population%  2014 usable water per capita  2019 FDI data  \n",
       "0                 0.793968                      0.797876       0.237226  \n",
       "1                 0.886034                      0.000000       0.119456  \n",
       "2                 0.340175                      0.226189       0.118014  \n",
       "3                 0.314040                      0.000655       0.119329  \n",
       "4                 0.092799                      0.012309       0.123409  \n",
       "..                     ...                           ...            ...  \n",
       "90                0.047278                      0.008474       0.118146  \n",
       "91                0.754602                      0.541036       0.139418  \n",
       "92                0.446426                      0.455128       0.117437  \n",
       "93                0.163595                      0.076260       0.117626  \n",
       "94                0.220624                      0.008923       0.117794  \n",
       "\n",
       "[95 rows x 7 columns]"
      ]
     },
     "execution_count": 27,
     "metadata": {},
     "output_type": "execute_result"
    }
   ],
   "source": [
    "# Convert back into data frame\n",
    "train_X = pd.DataFrame(train_X,columns=col_names)\n",
    "train_X"
   ]
  },
  {
   "cell_type": "code",
   "execution_count": 29,
   "metadata": {},
   "outputs": [],
   "source": [
    "fold_generator = KFold(n_splits=5, shuffle=True,random_state=111)"
   ]
  },
  {
   "cell_type": "code",
   "execution_count": 30,
   "metadata": {},
   "outputs": [],
   "source": [
    "use_metrics = [\"neg_mean_squared_error\"]"
   ]
  },
  {
   "cell_type": "code",
   "execution_count": 31,
   "metadata": {},
   "outputs": [],
   "source": [
    "lm_scores = cross_validate(LM(),train_X,train_y, cv = fold_generator, scoring =use_metrics)"
   ]
  },
  {
   "cell_type": "code",
   "execution_count": 32,
   "metadata": {},
   "outputs": [],
   "source": [
    "knn_scores = cross_validate(KNN(),train_X,train_y, cv = fold_generator, scoring =use_metrics)"
   ]
  },
  {
   "cell_type": "code",
   "execution_count": 33,
   "metadata": {},
   "outputs": [],
   "source": [
    "\n",
    "dt_scores = cross_validate(DT(),train_X,train_y, cv = fold_generator, scoring =use_metrics)"
   ]
  },
  {
   "cell_type": "code",
   "execution_count": null,
   "metadata": {},
   "outputs": [],
   "source": []
  },
  {
   "cell_type": "code",
   "execution_count": null,
   "metadata": {},
   "outputs": [],
   "source": []
  },
  {
   "cell_type": "code",
   "execution_count": null,
   "metadata": {},
   "outputs": [],
   "source": []
  },
  {
   "cell_type": "code",
   "execution_count": null,
   "metadata": {},
   "outputs": [],
   "source": []
  },
  {
   "cell_type": "code",
   "execution_count": null,
   "metadata": {},
   "outputs": [],
   "source": []
  },
  {
   "cell_type": "code",
   "execution_count": null,
   "metadata": {},
   "outputs": [],
   "source": []
  }
 ],
 "metadata": {
  "kernelspec": {
   "display_name": "Python 3",
   "language": "python",
   "name": "python3"
  },
  "language_info": {
   "codemirror_mode": {
    "name": "ipython",
    "version": 3
   },
   "file_extension": ".py",
   "mimetype": "text/x-python",
   "name": "python",
   "nbconvert_exporter": "python",
   "pygments_lexer": "ipython3",
   "version": "3.8.3"
  }
 },
 "nbformat": 4,
 "nbformat_minor": 4
}
